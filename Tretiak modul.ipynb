{
 "cells": [
  {
   "cell_type": "markdown",
   "metadata": {},
   "source": [
    "Модульна контрольна робота 1\n",
    "Третяк Вікторії"
   ]
  },
  {
   "cell_type": "code",
   "execution_count": 1,
   "metadata": {},
   "outputs": [],
   "source": [
    "# Importing the libraries\n",
    "# Імпортуємо необхідні бібліотеки\n",
    "import numpy as np\n",
    "import matplotlib.pyplot as plt\n",
    "import pandas as pd"
   ]
  },
  {
   "cell_type": "code",
   "execution_count": 2,
   "metadata": {},
   "outputs": [],
   "source": [
    "# Importing the dataset\n",
    "# Завантажимо вихідні дані\n",
    "df = pd.read_csv('Tretiak_modul.csv', sep=';')"
   ]
  },
  {
   "cell_type": "code",
   "execution_count": 3,
   "metadata": {},
   "outputs": [
    {
     "data": {
      "text/html": [
       "<div>\n",
       "<style scoped>\n",
       "    .dataframe tbody tr th:only-of-type {\n",
       "        vertical-align: middle;\n",
       "    }\n",
       "\n",
       "    .dataframe tbody tr th {\n",
       "        vertical-align: top;\n",
       "    }\n",
       "\n",
       "    .dataframe thead th {\n",
       "        text-align: right;\n",
       "    }\n",
       "</style>\n",
       "<table border=\"1\" class=\"dataframe\">\n",
       "  <thead>\n",
       "    <tr style=\"text-align: right;\">\n",
       "      <th></th>\n",
       "      <th>ActualPower</th>\n",
       "      <th>Max Capacity</th>\n",
       "      <th>Location 1</th>\n",
       "      <th>Location 3</th>\n",
       "      <th>Location 5</th>\n",
       "      <th>Location 7</th>\n",
       "    </tr>\n",
       "  </thead>\n",
       "  <tbody>\n",
       "    <tr>\n",
       "      <th>0</th>\n",
       "      <td>3.742</td>\n",
       "      <td>45.0</td>\n",
       "      <td>2.9</td>\n",
       "      <td>4.442</td>\n",
       "      <td>4.495</td>\n",
       "      <td>4.681</td>\n",
       "    </tr>\n",
       "    <tr>\n",
       "      <th>1</th>\n",
       "      <td>3.510</td>\n",
       "      <td>45.0</td>\n",
       "      <td>3.5</td>\n",
       "      <td>4.281</td>\n",
       "      <td>4.335</td>\n",
       "      <td>4.522</td>\n",
       "    </tr>\n",
       "    <tr>\n",
       "      <th>2</th>\n",
       "      <td>3.652</td>\n",
       "      <td>45.0</td>\n",
       "      <td>4.0</td>\n",
       "      <td>4.096</td>\n",
       "      <td>4.153</td>\n",
       "      <td>4.341</td>\n",
       "    </tr>\n",
       "    <tr>\n",
       "      <th>3</th>\n",
       "      <td>3.881</td>\n",
       "      <td>45.0</td>\n",
       "      <td>4.2</td>\n",
       "      <td>3.905</td>\n",
       "      <td>3.960</td>\n",
       "      <td>4.143</td>\n",
       "    </tr>\n",
       "    <tr>\n",
       "      <th>4</th>\n",
       "      <td>4.135</td>\n",
       "      <td>45.0</td>\n",
       "      <td>2.9</td>\n",
       "      <td>3.725</td>\n",
       "      <td>3.773</td>\n",
       "      <td>3.948</td>\n",
       "    </tr>\n",
       "    <tr>\n",
       "      <th>...</th>\n",
       "      <td>...</td>\n",
       "      <td>...</td>\n",
       "      <td>...</td>\n",
       "      <td>...</td>\n",
       "      <td>...</td>\n",
       "      <td>...</td>\n",
       "    </tr>\n",
       "    <tr>\n",
       "      <th>320</th>\n",
       "      <td>1.416</td>\n",
       "      <td>45.0</td>\n",
       "      <td>4.1</td>\n",
       "      <td>3.917</td>\n",
       "      <td>3.899</td>\n",
       "      <td>3.778</td>\n",
       "    </tr>\n",
       "    <tr>\n",
       "      <th>321</th>\n",
       "      <td>0.723</td>\n",
       "      <td>45.0</td>\n",
       "      <td>5.1</td>\n",
       "      <td>4.109</td>\n",
       "      <td>4.112</td>\n",
       "      <td>3.990</td>\n",
       "    </tr>\n",
       "    <tr>\n",
       "      <th>322</th>\n",
       "      <td>0.505</td>\n",
       "      <td>45.0</td>\n",
       "      <td>5.0</td>\n",
       "      <td>4.308</td>\n",
       "      <td>4.340</td>\n",
       "      <td>4.223</td>\n",
       "    </tr>\n",
       "    <tr>\n",
       "      <th>323</th>\n",
       "      <td>0.447</td>\n",
       "      <td>45.0</td>\n",
       "      <td>4.3</td>\n",
       "      <td>4.475</td>\n",
       "      <td>4.542</td>\n",
       "      <td>4.439</td>\n",
       "    </tr>\n",
       "    <tr>\n",
       "      <th>324</th>\n",
       "      <td>0.181</td>\n",
       "      <td>45.0</td>\n",
       "      <td>5.1</td>\n",
       "      <td>4.616</td>\n",
       "      <td>4.707</td>\n",
       "      <td>4.613</td>\n",
       "    </tr>\n",
       "  </tbody>\n",
       "</table>\n",
       "<p>325 rows × 6 columns</p>\n",
       "</div>"
      ],
      "text/plain": [
       "     ActualPower  Max Capacity  Location 1  Location 3  Location 5  Location 7\n",
       "0          3.742          45.0         2.9       4.442       4.495       4.681\n",
       "1          3.510          45.0         3.5       4.281       4.335       4.522\n",
       "2          3.652          45.0         4.0       4.096       4.153       4.341\n",
       "3          3.881          45.0         4.2       3.905       3.960       4.143\n",
       "4          4.135          45.0         2.9       3.725       3.773       3.948\n",
       "..           ...           ...         ...         ...         ...         ...\n",
       "320        1.416          45.0         4.1       3.917       3.899       3.778\n",
       "321        0.723          45.0         5.1       4.109       4.112       3.990\n",
       "322        0.505          45.0         5.0       4.308       4.340       4.223\n",
       "323        0.447          45.0         4.3       4.475       4.542       4.439\n",
       "324        0.181          45.0         5.1       4.616       4.707       4.613\n",
       "\n",
       "[325 rows x 6 columns]"
      ]
     },
     "execution_count": 3,
     "metadata": {},
     "output_type": "execute_result"
    }
   ],
   "source": [
    "# Виведемо дані, щоб перевірити чи нормально завантажились дані\n",
    "df"
   ]
  },
  {
   "cell_type": "code",
   "execution_count": 4,
   "metadata": {},
   "outputs": [
    {
     "data": {
      "text/html": [
       "<div>\n",
       "<style scoped>\n",
       "    .dataframe tbody tr th:only-of-type {\n",
       "        vertical-align: middle;\n",
       "    }\n",
       "\n",
       "    .dataframe tbody tr th {\n",
       "        vertical-align: top;\n",
       "    }\n",
       "\n",
       "    .dataframe thead th {\n",
       "        text-align: right;\n",
       "    }\n",
       "</style>\n",
       "<table border=\"1\" class=\"dataframe\">\n",
       "  <thead>\n",
       "    <tr style=\"text-align: right;\">\n",
       "      <th></th>\n",
       "      <th>ActualPower</th>\n",
       "      <th>Max Capacity</th>\n",
       "      <th>Location 1</th>\n",
       "      <th>Location 3</th>\n",
       "      <th>Location 5</th>\n",
       "      <th>Location 7</th>\n",
       "    </tr>\n",
       "  </thead>\n",
       "  <tbody>\n",
       "    <tr>\n",
       "      <th>count</th>\n",
       "      <td>324.000000</td>\n",
       "      <td>324.000000</td>\n",
       "      <td>324.000000</td>\n",
       "      <td>325.000000</td>\n",
       "      <td>323.000000</td>\n",
       "      <td>324.000000</td>\n",
       "    </tr>\n",
       "    <tr>\n",
       "      <th>mean</th>\n",
       "      <td>13.286593</td>\n",
       "      <td>44.815586</td>\n",
       "      <td>6.785802</td>\n",
       "      <td>5.128582</td>\n",
       "      <td>5.164198</td>\n",
       "      <td>5.182929</td>\n",
       "    </tr>\n",
       "    <tr>\n",
       "      <th>std</th>\n",
       "      <td>12.677422</td>\n",
       "      <td>0.655812</td>\n",
       "      <td>3.688479</td>\n",
       "      <td>2.603512</td>\n",
       "      <td>2.605965</td>\n",
       "      <td>2.560248</td>\n",
       "    </tr>\n",
       "    <tr>\n",
       "      <th>min</th>\n",
       "      <td>0.011000</td>\n",
       "      <td>41.250000</td>\n",
       "      <td>0.000000</td>\n",
       "      <td>0.068000</td>\n",
       "      <td>0.056000</td>\n",
       "      <td>0.046000</td>\n",
       "    </tr>\n",
       "    <tr>\n",
       "      <th>25%</th>\n",
       "      <td>3.328250</td>\n",
       "      <td>45.000000</td>\n",
       "      <td>4.200000</td>\n",
       "      <td>2.806000</td>\n",
       "      <td>2.984500</td>\n",
       "      <td>3.014750</td>\n",
       "    </tr>\n",
       "    <tr>\n",
       "      <th>50%</th>\n",
       "      <td>7.667500</td>\n",
       "      <td>45.000000</td>\n",
       "      <td>5.950000</td>\n",
       "      <td>5.781000</td>\n",
       "      <td>5.749000</td>\n",
       "      <td>5.529000</td>\n",
       "    </tr>\n",
       "    <tr>\n",
       "      <th>75%</th>\n",
       "      <td>22.426500</td>\n",
       "      <td>45.000000</td>\n",
       "      <td>8.725000</td>\n",
       "      <td>7.315000</td>\n",
       "      <td>7.378500</td>\n",
       "      <td>7.354250</td>\n",
       "    </tr>\n",
       "    <tr>\n",
       "      <th>max</th>\n",
       "      <td>42.301000</td>\n",
       "      <td>45.000000</td>\n",
       "      <td>18.900000</td>\n",
       "      <td>9.344000</td>\n",
       "      <td>9.352000</td>\n",
       "      <td>9.361000</td>\n",
       "    </tr>\n",
       "  </tbody>\n",
       "</table>\n",
       "</div>"
      ],
      "text/plain": [
       "       ActualPower  Max Capacity  Location 1  Location 3  Location 5  \\\n",
       "count   324.000000    324.000000  324.000000  325.000000  323.000000   \n",
       "mean     13.286593     44.815586    6.785802    5.128582    5.164198   \n",
       "std      12.677422      0.655812    3.688479    2.603512    2.605965   \n",
       "min       0.011000     41.250000    0.000000    0.068000    0.056000   \n",
       "25%       3.328250     45.000000    4.200000    2.806000    2.984500   \n",
       "50%       7.667500     45.000000    5.950000    5.781000    5.749000   \n",
       "75%      22.426500     45.000000    8.725000    7.315000    7.378500   \n",
       "max      42.301000     45.000000   18.900000    9.344000    9.352000   \n",
       "\n",
       "       Location 7  \n",
       "count  324.000000  \n",
       "mean     5.182929  \n",
       "std      2.560248  \n",
       "min      0.046000  \n",
       "25%      3.014750  \n",
       "50%      5.529000  \n",
       "75%      7.354250  \n",
       "max      9.361000  "
      ]
     },
     "execution_count": 4,
     "metadata": {},
     "output_type": "execute_result"
    }
   ],
   "source": [
    "#Виведемо описову статистику даних\n",
    "df.describe()"
   ]
  },
  {
   "cell_type": "markdown",
   "metadata": {},
   "source": [
    "Отже, у нас є набір даних з 6-ти змінними, 325 спостереженнями. Залежною змінною є ActualPower. Практично в усіх стовпцях, окрім Location 3 є пропуски. Їх необхідно буде заповнити. Але для початку побудуємо розподіл даних для кожної зі змінних, щоб визначити чи вони нормально розподілені, потребують чи ні вони певних перертворень."
   ]
  },
  {
   "cell_type": "code",
   "execution_count": 5,
   "metadata": {},
   "outputs": [
    {
     "data": {
      "text/plain": [
       "<AxesSubplot:ylabel='Frequency'>"
      ]
     },
     "execution_count": 5,
     "metadata": {},
     "output_type": "execute_result"
    },
    {
     "data": {
      "image/png": "[encoded data removed]",
      "text/plain": [
       "<Figure size 432x288 with 1 Axes>"
      ]
     },
     "metadata": {
      "needs_background": "light"
     },
     "output_type": "display_data"
    }
   ],
   "source": [
    "# ActualPower distribution\n",
    "df['ActualPower'].plot(kind = 'hist')"
   ]
  },
  {
   "cell_type": "code",
   "execution_count": 6,
   "metadata": {},
   "outputs": [
    {
     "data": {
      "text/plain": [
       "<AxesSubplot:ylabel='Frequency'>"
      ]
     },
     "execution_count": 6,
     "metadata": {},
     "output_type": "execute_result"
    },
    {
     "data": {
      "image/png": "[encoded data removed]",
      "text/plain": [
       "<Figure size 432x288 with 1 Axes>"
      ]
     },
     "metadata": {
      "needs_background": "light"
     },
     "output_type": "display_data"
    }
   ],
   "source": [
    "# Max Capacity distribution\n",
    "df['Max Capacity'].plot(kind = 'hist')"
   ]
  },
  {
   "cell_type": "code",
   "execution_count": 7,
   "metadata": {},
   "outputs": [
    {
     "data": {
      "text/plain": [
       "<AxesSubplot:ylabel='Frequency'>"
      ]
     },
     "execution_count": 7,
     "metadata": {},
     "output_type": "execute_result"
    },
    {
     "data": {
      "image/png": "[encoded data removed]",
      "text/plain": [
       "<Figure size 432x288 with 1 Axes>"
      ]
     },
     "metadata": {
      "needs_background": "light"
     },
     "output_type": "display_data"
    }
   ],
   "source": [
    "# Location 1 distribution\n",
    "df['Location 1'].plot(kind = 'hist')"
   ]
  },
  {
   "cell_type": "code",
   "execution_count": 8,
   "metadata": {},
   "outputs": [
    {
     "data": {
      "text/plain": [
       "<AxesSubplot:ylabel='Frequency'>"
      ]
     },
     "execution_count": 8,
     "metadata": {},
     "output_type": "execute_result"
    },
    {
     "data": {
      "image/png": "[encoded data removed]",
      "text/plain": [
       "<Figure size 432x288 with 1 Axes>"
      ]
     },
     "metadata": {
      "needs_background": "light"
     },
     "output_type": "display_data"
    }
   ],
   "source": [
    "# Location 3 distribution\n",
    "df['Location 3'].plot(kind = 'hist')"
   ]
  },
  {
   "cell_type": "code",
   "execution_count": 9,
   "metadata": {},
   "outputs": [
    {
     "data": {
      "text/plain": [
       "<AxesSubplot:ylabel='Frequency'>"
      ]
     },
     "execution_count": 9,
     "metadata": {},
     "output_type": "execute_result"
    },
    {
     "data": {
      "image/png": "[encoded data removed]",
      "text/plain": [
       "<Figure size 432x288 with 1 Axes>"
      ]
     },
     "metadata": {
      "needs_background": "light"
     },
     "output_type": "display_data"
    }
   ],
   "source": [
    "# Location 5 distribution\n",
    "df['Location 5'].plot(kind = 'hist')"
   ]
  },
  {
   "cell_type": "code",
   "execution_count": 10,
   "metadata": {},
   "outputs": [
    {
     "data": {
      "text/plain": [
       "<AxesSubplot:ylabel='Frequency'>"
      ]
     },
     "execution_count": 10,
     "metadata": {},
     "output_type": "execute_result"
    },
    {
     "data": {
      "image/png": "[encoded data removed]",
      "text/plain": [
       "<Figure size 432x288 with 1 Axes>"
      ]
     },
     "metadata": {
      "needs_background": "light"
     },
     "output_type": "display_data"
    }
   ],
   "source": [
    "# Location 7 distribution\n",
    "df['Location 7'].plot(kind = 'hist')"
   ]
  },
  {
   "cell_type": "markdown",
   "metadata": {},
   "source": [
    "З отриманих результатів помітно, що наша залежна змінна ActualPower має ненормальний розподіл даних і її необхідно замінити на логарифм від поточного значення. Виконаємо заміну"
   ]
  },
  {
   "cell_type": "code",
   "execution_count": 11,
   "metadata": {},
   "outputs": [],
   "source": [
    "df['ActualPower'] = np.log(df['ActualPower'])"
   ]
  },
  {
   "cell_type": "code",
   "execution_count": 12,
   "metadata": {},
   "outputs": [
    {
     "data": {
      "text/plain": [
       "<AxesSubplot:ylabel='Frequency'>"
      ]
     },
     "execution_count": 12,
     "metadata": {},
     "output_type": "execute_result"
    },
    {
     "data": {
      "image/png": "[encoded data removed]",
      "text/plain": [
       "<Figure size 432x288 with 1 Axes>"
      ]
     },
     "metadata": {
      "needs_background": "light"
     },
     "output_type": "display_data"
    }
   ],
   "source": [
    "#Переглянемо як наразі розподіляються дані в даній змінній\n",
    "df['ActualPower'].plot(kind = 'hist')"
   ]
  },
  {
   "cell_type": "code",
   "execution_count": 13,
   "metadata": {},
   "outputs": [
    {
     "data": {
      "text/html": [
       "<div>\n",
       "<style scoped>\n",
       "    .dataframe tbody tr th:only-of-type {\n",
       "        vertical-align: middle;\n",
       "    }\n",
       "\n",
       "    .dataframe tbody tr th {\n",
       "        vertical-align: top;\n",
       "    }\n",
       "\n",
       "    .dataframe thead th {\n",
       "        text-align: right;\n",
       "    }\n",
       "</style>\n",
       "<table border=\"1\" class=\"dataframe\">\n",
       "  <thead>\n",
       "    <tr style=\"text-align: right;\">\n",
       "      <th></th>\n",
       "      <th>ActualPower</th>\n",
       "      <th>Max Capacity</th>\n",
       "      <th>Location 1</th>\n",
       "      <th>Location 3</th>\n",
       "      <th>Location 5</th>\n",
       "      <th>Location 7</th>\n",
       "    </tr>\n",
       "  </thead>\n",
       "  <tbody>\n",
       "    <tr>\n",
       "      <th>count</th>\n",
       "      <td>324.000000</td>\n",
       "      <td>324.000000</td>\n",
       "      <td>324.000000</td>\n",
       "      <td>325.000000</td>\n",
       "      <td>323.000000</td>\n",
       "      <td>324.000000</td>\n",
       "    </tr>\n",
       "    <tr>\n",
       "      <th>mean</th>\n",
       "      <td>1.940197</td>\n",
       "      <td>44.815586</td>\n",
       "      <td>6.785802</td>\n",
       "      <td>5.128582</td>\n",
       "      <td>5.164198</td>\n",
       "      <td>5.182929</td>\n",
       "    </tr>\n",
       "    <tr>\n",
       "      <th>std</th>\n",
       "      <td>1.360064</td>\n",
       "      <td>0.655812</td>\n",
       "      <td>3.688479</td>\n",
       "      <td>2.603512</td>\n",
       "      <td>2.605965</td>\n",
       "      <td>2.560248</td>\n",
       "    </tr>\n",
       "    <tr>\n",
       "      <th>min</th>\n",
       "      <td>-4.509860</td>\n",
       "      <td>41.250000</td>\n",
       "      <td>0.000000</td>\n",
       "      <td>0.068000</td>\n",
       "      <td>0.056000</td>\n",
       "      <td>0.046000</td>\n",
       "    </tr>\n",
       "    <tr>\n",
       "      <th>25%</th>\n",
       "      <td>1.202445</td>\n",
       "      <td>45.000000</td>\n",
       "      <td>4.200000</td>\n",
       "      <td>2.806000</td>\n",
       "      <td>2.984500</td>\n",
       "      <td>3.014750</td>\n",
       "    </tr>\n",
       "    <tr>\n",
       "      <th>50%</th>\n",
       "      <td>2.036989</td>\n",
       "      <td>45.000000</td>\n",
       "      <td>5.950000</td>\n",
       "      <td>5.781000</td>\n",
       "      <td>5.749000</td>\n",
       "      <td>5.529000</td>\n",
       "    </tr>\n",
       "    <tr>\n",
       "      <th>75%</th>\n",
       "      <td>3.110233</td>\n",
       "      <td>45.000000</td>\n",
       "      <td>8.725000</td>\n",
       "      <td>7.315000</td>\n",
       "      <td>7.378500</td>\n",
       "      <td>7.354250</td>\n",
       "    </tr>\n",
       "    <tr>\n",
       "      <th>max</th>\n",
       "      <td>3.744811</td>\n",
       "      <td>45.000000</td>\n",
       "      <td>18.900000</td>\n",
       "      <td>9.344000</td>\n",
       "      <td>9.352000</td>\n",
       "      <td>9.361000</td>\n",
       "    </tr>\n",
       "  </tbody>\n",
       "</table>\n",
       "</div>"
      ],
      "text/plain": [
       "       ActualPower  Max Capacity  Location 1  Location 3  Location 5  \\\n",
       "count   324.000000    324.000000  324.000000  325.000000  323.000000   \n",
       "mean      1.940197     44.815586    6.785802    5.128582    5.164198   \n",
       "std       1.360064      0.655812    3.688479    2.603512    2.605965   \n",
       "min      -4.509860     41.250000    0.000000    0.068000    0.056000   \n",
       "25%       1.202445     45.000000    4.200000    2.806000    2.984500   \n",
       "50%       2.036989     45.000000    5.950000    5.781000    5.749000   \n",
       "75%       3.110233     45.000000    8.725000    7.315000    7.378500   \n",
       "max       3.744811     45.000000   18.900000    9.344000    9.352000   \n",
       "\n",
       "       Location 7  \n",
       "count  324.000000  \n",
       "mean     5.182929  \n",
       "std      2.560248  \n",
       "min      0.046000  \n",
       "25%      3.014750  \n",
       "50%      5.529000  \n",
       "75%      7.354250  \n",
       "max      9.361000  "
      ]
     },
     "execution_count": 13,
     "metadata": {},
     "output_type": "execute_result"
    }
   ],
   "source": [
    "#Виведемо описову статистику даних\n",
    "df.describe()"
   ]
  },
  {
   "cell_type": "markdown",
   "metadata": {},
   "source": [
    "Як бачимо з отриманої сатистики, в змінних 'ActualPower', 'Max Capacity' присутні значення які менші ніж mean()-3*std. У змінній 'Location 1' присутні значення, які не потрапляють в межі верхньої границі. Замінимо такі значення на граничні "
   ]
  },
  {
   "cell_type": "code",
   "execution_count": 14,
   "metadata": {},
   "outputs": [],
   "source": [
    "ActualPower = []\n",
    "for ActualPower1 in df['ActualPower']:\n",
    "    if ActualPower1 < round(df['ActualPower'].mean() - 3 * df['ActualPower'].std()):\n",
    "        ActualPower1 = round(df['ActualPower'].mean() - 3*df['ActualPower'].std())\n",
    "    ActualPower.append(ActualPower1)\n",
    "df['ActualPower']  = ActualPower\n",
    "\n",
    "Capacity = []\n",
    "for Capacity1 in df['Max Capacity']:\n",
    "    if Capacity1 < round(df['Max Capacity'].mean() - 3 * df['Max Capacity'].std()):\n",
    "        Capacity1 = round(df['Max Capacity'].mean() - 3*df['Max Capacity'].std())\n",
    "    Capacity.append(Capacity1)\n",
    "df['Max Capacity']  = Capacity\n",
    "\n",
    "Location = []\n",
    "for Location1 in df['Location 1']:\n",
    "    if Location1 > round(df['Location 1'].mean() + 3 * df['Location 1'].std()):\n",
    "        Location1 = round(df['Location 1'].mean() + 3*df['Location 1'].std())\n",
    "    Location.append(Location1)\n",
    "df['Location 1']  = Location"
   ]
  },
  {
   "cell_type": "code",
   "execution_count": 15,
   "metadata": {},
   "outputs": [],
   "source": [
    "# Тепер замінимо пропущені дані середніми значеннями\n",
    "from sklearn.impute import SimpleImputer\n",
    "\n",
    "imputer_mean = SimpleImputer(missing_values=np.nan, strategy='mean').fit(df[['ActualPower']])\n",
    "df[['ActualPower']] = imputer_mean.fit_transform(df[['ActualPower']])\n",
    "\n",
    "imputer_mean = SimpleImputer(missing_values=np.nan, strategy='mean').fit(df[['Max Capacity']])\n",
    "df[['Max Capacity']] = imputer_mean.fit_transform(df[['Max Capacity']])\n",
    "\n",
    "imputer_mean = SimpleImputer(missing_values=np.nan, strategy='mean').fit(df[['Location 1']])\n",
    "df[['Location 1']] = imputer_mean.fit_transform(df[['Location 1']])\n",
    "\n",
    "imputer_mean = SimpleImputer(missing_values=np.nan, strategy='mean').fit(df[['Location 5']])\n",
    "df[['Location 5']] = imputer_mean.fit_transform(df[['Location 5']])\n",
    "\n",
    "imputer_mean = SimpleImputer(missing_values=np.nan, strategy='mean').fit(df[['Location 7']])\n",
    "df[['Location 7']] = imputer_mean.fit_transform(df[['Location 7']])"
   ]
  },
  {
   "cell_type": "code",
   "execution_count": 16,
   "metadata": {},
   "outputs": [],
   "source": [
    "# Експортуємо наші підготовлені дані в окремий файл\n",
    "df.to_csv('Tretiak_modul_prep.csv', sep=';', index=False)"
   ]
  },
  {
   "cell_type": "markdown",
   "metadata": {},
   "source": [
    "Дані підготовані. Тепер можемо перейти до побудови моделей регресії.\n",
    "Спочатку будемо будувати просту лінійну модель.\n",
    "Для цього перш за все необхідно визначити яку змінну необхідно брати в якості незалежної."
   ]
  },
  {
   "cell_type": "code",
   "execution_count": 18,
   "metadata": {},
   "outputs": [
    {
     "data": {
      "text/html": [
       "<div>\n",
       "<style scoped>\n",
       "    .dataframe tbody tr th:only-of-type {\n",
       "        vertical-align: middle;\n",
       "    }\n",
       "\n",
       "    .dataframe tbody tr th {\n",
       "        vertical-align: top;\n",
       "    }\n",
       "\n",
       "    .dataframe thead th {\n",
       "        text-align: right;\n",
       "    }\n",
       "</style>\n",
       "<table border=\"1\" class=\"dataframe\">\n",
       "  <thead>\n",
       "    <tr style=\"text-align: right;\">\n",
       "      <th></th>\n",
       "      <th>ActualPower</th>\n",
       "      <th>Max Capacity</th>\n",
       "      <th>Location 1</th>\n",
       "      <th>Location 3</th>\n",
       "      <th>Location 5</th>\n",
       "      <th>Location 7</th>\n",
       "    </tr>\n",
       "  </thead>\n",
       "  <tbody>\n",
       "    <tr>\n",
       "      <th>ActualPower</th>\n",
       "      <td>1.000000</td>\n",
       "      <td>-0.324577</td>\n",
       "      <td>0.431499</td>\n",
       "      <td>0.438061</td>\n",
       "      <td>0.438510</td>\n",
       "      <td>0.472716</td>\n",
       "    </tr>\n",
       "    <tr>\n",
       "      <th>Max Capacity</th>\n",
       "      <td>-0.324577</td>\n",
       "      <td>1.000000</td>\n",
       "      <td>-0.220094</td>\n",
       "      <td>-0.205126</td>\n",
       "      <td>-0.232158</td>\n",
       "      <td>-0.281462</td>\n",
       "    </tr>\n",
       "    <tr>\n",
       "      <th>Location 1</th>\n",
       "      <td>0.431499</td>\n",
       "      <td>-0.220094</td>\n",
       "      <td>1.000000</td>\n",
       "      <td>0.730431</td>\n",
       "      <td>0.710891</td>\n",
       "      <td>0.700241</td>\n",
       "    </tr>\n",
       "    <tr>\n",
       "      <th>Location 3</th>\n",
       "      <td>0.438061</td>\n",
       "      <td>-0.205126</td>\n",
       "      <td>0.730431</td>\n",
       "      <td>1.000000</td>\n",
       "      <td>0.990100</td>\n",
       "      <td>0.977085</td>\n",
       "    </tr>\n",
       "    <tr>\n",
       "      <th>Location 5</th>\n",
       "      <td>0.438510</td>\n",
       "      <td>-0.232158</td>\n",
       "      <td>0.710891</td>\n",
       "      <td>0.990100</td>\n",
       "      <td>1.000000</td>\n",
       "      <td>0.983533</td>\n",
       "    </tr>\n",
       "    <tr>\n",
       "      <th>Location 7</th>\n",
       "      <td>0.472716</td>\n",
       "      <td>-0.281462</td>\n",
       "      <td>0.700241</td>\n",
       "      <td>0.977085</td>\n",
       "      <td>0.983533</td>\n",
       "      <td>1.000000</td>\n",
       "    </tr>\n",
       "  </tbody>\n",
       "</table>\n",
       "</div>"
      ],
      "text/plain": [
       "              ActualPower  Max Capacity  Location 1  Location 3  Location 5  \\\n",
       "ActualPower      1.000000     -0.324577    0.431499    0.438061    0.438510   \n",
       "Max Capacity    -0.324577      1.000000   -0.220094   -0.205126   -0.232158   \n",
       "Location 1       0.431499     -0.220094    1.000000    0.730431    0.710891   \n",
       "Location 3       0.438061     -0.205126    0.730431    1.000000    0.990100   \n",
       "Location 5       0.438510     -0.232158    0.710891    0.990100    1.000000   \n",
       "Location 7       0.472716     -0.281462    0.700241    0.977085    0.983533   \n",
       "\n",
       "              Location 7  \n",
       "ActualPower     0.472716  \n",
       "Max Capacity   -0.281462  \n",
       "Location 1      0.700241  \n",
       "Location 3      0.977085  \n",
       "Location 5      0.983533  \n",
       "Location 7      1.000000  "
      ]
     },
     "execution_count": 18,
     "metadata": {},
     "output_type": "execute_result"
    }
   ],
   "source": [
    "# Побудуємо кореляційну матрицю та графік кореляції між змінними\n",
    "df.corr()"
   ]
  },
  {
   "cell_type": "code",
   "execution_count": 19,
   "metadata": {},
   "outputs": [
    {
     "data": {
      "image/png": "[encoded data removed]",
      "text/plain": [
       "<Figure size 720x720 with 36 Axes>"
      ]
     },
     "metadata": {
      "needs_background": "light"
     },
     "output_type": "display_data"
    }
   ],
   "source": [
    "from pandas.plotting import scatter_matrix\n",
    "scatter_matrix(df, alpha=0.2, figsize=(10, 10))\n",
    "plt.show()"
   ]
  },
  {
   "cell_type": "markdown",
   "metadata": {},
   "source": [
    "З отриманих результатів помітно, що найбільший коефіцієнт кореляції з ActualPower спостерігається в 'Location 7'\n",
    "Варто зазначити, що в випадку побудов множинної регресії від усіх можливих незалежних змінних, в нашій моделі буде присутня мультиколінеарність (про це свідчать високі значення коефіцієнтів кореляції між змінними розташування)"
   ]
  },
  {
   "cell_type": "code",
   "execution_count": 20,
   "metadata": {},
   "outputs": [],
   "source": [
    "# Розіб'ємо наші дані на тренувальну і тестові вибірки\n",
    "X = df.iloc[:, 1:].values\n",
    "y = df.iloc[:, 0:1].values\n",
    "from sklearn.model_selection import train_test_split\n",
    "X_train, X_test, y_train, y_test = train_test_split(X, y, test_size=0.2, random_state=1)"
   ]
  },
  {
   "cell_type": "code",
   "execution_count": 21,
   "metadata": {},
   "outputs": [],
   "source": [
    "# Побудуємо просту лінійну регресію залежності 'ActualPower' від 'Location 7'\n",
    "from sklearn.linear_model import LinearRegression\n",
    "sr = LinearRegression().fit(X_train[:, 4:], y_train)"
   ]
  },
  {
   "cell_type": "code",
   "execution_count": 22,
   "metadata": {},
   "outputs": [
    {
     "data": {
      "text/plain": [
       "(array([[0.23622358]]), array([0.77876367]))"
      ]
     },
     "execution_count": 22,
     "metadata": {},
     "output_type": "execute_result"
    }
   ],
   "source": [
    "# Отримуємо коефіцієнти регресії\n",
    "sr.coef_, sr.intercept_\n",
    "# Рівняння регресії має вигляд: y =0.236*x + 0.77"
   ]
  },
  {
   "cell_type": "code",
   "execution_count": 23,
   "metadata": {},
   "outputs": [],
   "source": [
    "# Побудуємо прогнозні значення для даної моделі на тестових даних\n",
    "y_pred = sr.predict(X_test[:, 4:])"
   ]
  },
  {
   "cell_type": "code",
   "execution_count": 24,
   "metadata": {},
   "outputs": [
    {
     "data": {
      "text/plain": [
       "(0.22695137409238164, 0.18894707001505384)"
      ]
     },
     "execution_count": 24,
     "metadata": {},
     "output_type": "execute_result"
    }
   ],
   "source": [
    "# Обчислимо коефіцієнти детермінації для кожної із вибірок\n",
    "sr.score(X_train[:, 4:], y_train), sr.score(X_test[:, 4:], y_test)"
   ]
  },
  {
   "cell_type": "markdown",
   "metadata": {},
   "source": [
    "Коефіцієнти детермінації є низькими. Дана модель не може бути застосована для прогнозування даних."
   ]
  },
  {
   "cell_type": "code",
   "execution_count": 25,
   "metadata": {},
   "outputs": [
    {
     "data": {
      "image/png": "[encoded data removed]",
      "text/plain": [
       "<Figure size 432x288 with 1 Axes>"
      ]
     },
     "metadata": {
      "needs_background": "light"
     },
     "output_type": "display_data"
    }
   ],
   "source": [
    "# Visualising the Training set results\n",
    "plt.scatter(X_train[:,4], y_train, color = 'red')\n",
    "plt.plot(X_train[:,4], sr.predict(X_train[:, 4:]), 'bo')\n",
    "plt.title('ActualPower vs Location 7 (Training set)')\n",
    "plt.xlabel('Location 7')\n",
    "plt.ylabel('ActualPower')\n",
    "plt.show()"
   ]
  },
  {
   "cell_type": "code",
   "execution_count": 26,
   "metadata": {},
   "outputs": [
    {
     "data": {
      "image/png": "[encoded data removed]",
      "text/plain": [
       "<Figure size 432x288 with 1 Axes>"
      ]
     },
     "metadata": {
      "needs_background": "light"
     },
     "output_type": "display_data"
    }
   ],
   "source": [
    "# Visualising the Test set results\n",
    "plt.scatter(X_test[:,4], y_test, color = 'red')\n",
    "plt.plot(X_test[:,4], sr.predict(X_test[:, 4:]), 'bo')\n",
    "plt.title('ActualPower vs Location 7 (Test set)')\n",
    "plt.xlabel('Location 7')\n",
    "plt.ylabel('ActualPower')\n",
    "plt.show()"
   ]
  },
  {
   "cell_type": "code",
   "execution_count": 27,
   "metadata": {},
   "outputs": [],
   "source": [
    "# Обчислимо середньоквадратичні помилки для даної моделі\n",
    "from sklearn.metrics import mean_squared_error\n",
    "mse_sr_train = mean_squared_error(sr.predict(X_train[:, 4:]), y_train)\n",
    "mse_sr_test = mean_squared_error(sr.predict(X_test[:, 4:]), y_test)"
   ]
  },
  {
   "cell_type": "markdown",
   "metadata": {},
   "source": [
    "Тепер побудуємо множинну лінійну регресію. В якості незалежних змінних візьмемо всі 5"
   ]
  },
  {
   "cell_type": "code",
   "execution_count": 28,
   "metadata": {},
   "outputs": [],
   "source": [
    "# Fitting Multiple Linear Regression to the Training set\n",
    "from sklearn.linear_model import LinearRegression\n",
    "mr = LinearRegression().fit(X_train, y_train)"
   ]
  },
  {
   "cell_type": "code",
   "execution_count": 29,
   "metadata": {},
   "outputs": [
    {
     "data": {
      "text/plain": [
       "(array([[-0.38781324,  0.08125648, -0.34527655,  0.01757815,  0.45663073]]),\n",
       " array([18.1605036]))"
      ]
     },
     "execution_count": 29,
     "metadata": {},
     "output_type": "execute_result"
    }
   ],
   "source": [
    "# Getting parameters\n",
    "mr.coef_, mr.intercept_\n",
    "# Рівняння мнодинної лінійної регресії має наступний вигляд:\n",
    "# -0.388*х1 + 0.813*х2 - 0.345*х3 + 0.018*х4 + 0.457*х5 + 18.161"
   ]
  },
  {
   "cell_type": "code",
   "execution_count": 30,
   "metadata": {},
   "outputs": [],
   "source": [
    "# Predicting the Test set results\n",
    "y_pred = mr.predict(X_test)"
   ]
  },
  {
   "cell_type": "code",
   "execution_count": 31,
   "metadata": {},
   "outputs": [
    {
     "data": {
      "text/plain": [
       "(0.29499392952382497, 0.2461966274407873)"
      ]
     },
     "execution_count": 31,
     "metadata": {},
     "output_type": "execute_result"
    }
   ],
   "source": [
    "# Обчислимо коефіцієнти детермінації R^2 для кожної із вибірок\n",
    "mr.score(X_train, y_train), mr.score(X_test, y_test)"
   ]
  },
  {
   "cell_type": "markdown",
   "metadata": {},
   "source": [
    "Отримані значення коефіцієнтів детермінації є трохи вищими, ніж в попередньої простої лінійної моделі, але все одно залишаються незадовільно низькими для можливості їх використання на практиці."
   ]
  },
  {
   "cell_type": "code",
   "execution_count": 32,
   "metadata": {},
   "outputs": [
    {
     "data": {
      "image/png": "[encoded data removed]",
      "text/plain": [
       "<Figure size 432x288 with 1 Axes>"
      ]
     },
     "metadata": {
      "needs_background": "light"
     },
     "output_type": "display_data"
    }
   ],
   "source": [
    "# Visualising the Training set results\n",
    "plt.scatter(X_train[:,4], y_train, color = 'red')\n",
    "plt.plot(X_train[:,4], mr.predict(X_train), 'bo')\n",
    "plt.title('ActualPower vs Location 7 (Training set)')\n",
    "plt.xlabel('Location 7')\n",
    "plt.ylabel('ActualPower')\n",
    "plt.show()"
   ]
  },
  {
   "cell_type": "code",
   "execution_count": 33,
   "metadata": {},
   "outputs": [
    {
     "data": {
      "image/png": "[encoded data removed]",
      "text/plain": [
       "<Figure size 432x288 with 1 Axes>"
      ]
     },
     "metadata": {
      "needs_background": "light"
     },
     "output_type": "display_data"
    }
   ],
   "source": [
    "# Visualising the Test set results\n",
    "plt.scatter(X_test[:,3], y_test, color = 'red')\n",
    "plt.plot(X_test[:,3], mr.predict(X_test), 'bo')\n",
    "plt.title('ActualPower vs Location 7 (Test set)')\n",
    "plt.xlabel('Location 7')\n",
    "plt.ylabel('ActualPower')\n",
    "plt.show()"
   ]
  },
  {
   "cell_type": "markdown",
   "metadata": {},
   "source": [
    "На графіках помітно, що множинна модель краще описує та прогнозує дані в порівнянні з простою лінійною"
   ]
  },
  {
   "cell_type": "code",
   "execution_count": 34,
   "metadata": {},
   "outputs": [],
   "source": [
    "# Обчислимо середньоквадратичні помилки для даної моделі\n",
    "from sklearn.metrics import mean_squared_error\n",
    "mse_mr_train = mean_squared_error(mr.predict(X_train), y_train)\n",
    "mse_mr_test = mean_squared_error(mr.predict(X_test), y_test)"
   ]
  },
  {
   "cell_type": "markdown",
   "metadata": {},
   "source": [
    "Далі побудуємо просту поліноміальну модель. В якості незалежних зміних у нас буде 'Location 7' та її квадрат"
   ]
  },
  {
   "cell_type": "code",
   "execution_count": 35,
   "metadata": {},
   "outputs": [],
   "source": [
    "# Створюємо датасет для побудови поліноміальної моделі\n",
    "from sklearn.preprocessing import PolynomialFeatures\n",
    "X_train_p = PolynomialFeatures().fit_transform(X_train[:, 4:])\n",
    "X_test_p = PolynomialFeatures().fit_transform(X_test[:, 4:])\n",
    "pr = LinearRegression().fit(X_train_p[:,1:], y_train)"
   ]
  },
  {
   "cell_type": "code",
   "execution_count": 36,
   "metadata": {},
   "outputs": [
    {
     "data": {
      "text/plain": [
       "(array([[0.13504224, 0.01043502]]), array([0.95455216]))"
      ]
     },
     "execution_count": 36,
     "metadata": {},
     "output_type": "execute_result"
    }
   ],
   "source": [
    "# Отримуємо коефіцієнти регресії\n",
    "pr.coef_, pr.intercept_\n",
    "# Рівняння регресії має вигляд: y = 0.135*х + 0.01*х^2 + 0.955"
   ]
  },
  {
   "cell_type": "code",
   "execution_count": 37,
   "metadata": {},
   "outputs": [],
   "source": [
    "# Predicting the Test set results\n",
    "y_pred = pr.predict(X_test_p[:,1:])"
   ]
  },
  {
   "cell_type": "code",
   "execution_count": 38,
   "metadata": {},
   "outputs": [
    {
     "data": {
      "text/plain": [
       "(0.22955112299698388, 0.19207229854778252)"
      ]
     },
     "execution_count": 38,
     "metadata": {},
     "output_type": "execute_result"
    }
   ],
   "source": [
    "# Обчислимо коефіцієнти детермінації R^2 для кожної із вибірок\n",
    "pr.score(X_train_p[:,1:], y_train), pr.score(X_test_p[:,1:], y_test)"
   ]
  },
  {
   "cell_type": "markdown",
   "metadata": {},
   "source": [
    "Коефіцієнти детермінації для даної моделі також є низькими. В порівнянні з простою лінійною моделлю, то дана є трохи кращою, але за якістю поступається множинній лінійній регресії. "
   ]
  },
  {
   "cell_type": "code",
   "execution_count": 39,
   "metadata": {},
   "outputs": [
    {
     "data": {
      "image/png": "[encoded data removed]",
      "text/plain": [
       "<Figure size 432x288 with 1 Axes>"
      ]
     },
     "metadata": {
      "needs_background": "light"
     },
     "output_type": "display_data"
    }
   ],
   "source": [
    "# Visualising the Training set results\n",
    "plt.scatter(X_train[:,4], y_train, color = 'red')\n",
    "plt.plot(X_train[:,4], pr.predict(X_train_p[:,1:]), 'bo')\n",
    "plt.title('ActualPower vs Location 7 (Training set)')\n",
    "plt.xlabel('Location 7')\n",
    "plt.ylabel('ActualPower')\n",
    "plt.show()"
   ]
  },
  {
   "cell_type": "code",
   "execution_count": 40,
   "metadata": {},
   "outputs": [
    {
     "data": {
      "image/png": "[encoded data removed]",
      "text/plain": [
       "<Figure size 432x288 with 1 Axes>"
      ]
     },
     "metadata": {
      "needs_background": "light"
     },
     "output_type": "display_data"
    }
   ],
   "source": [
    "# Visualising the Test set results\n",
    "plt.scatter(X_test[:,3], y_test, color = 'red')\n",
    "plt.plot(X_test[:,3], pr.predict(X_test_p[:,1:]), 'bo')\n",
    "plt.title('ActualPower vs Location 7 (Test set)')\n",
    "plt.xlabel('Location 7')\n",
    "plt.ylabel('ActualPower')\n",
    "plt.show()"
   ]
  },
  {
   "cell_type": "code",
   "execution_count": 41,
   "metadata": {},
   "outputs": [],
   "source": [
    "# Обчислимо середньоквадратичні помилки для даної моделі\n",
    "from sklearn.metrics import mean_squared_error\n",
    "mse_pr_train = mean_squared_error(pr.predict(X_train_p[:,1:]), y_train)\n",
    "mse_pr_test = mean_squared_error(pr.predict(X_test_p[:,1:]), y_test)"
   ]
  },
  {
   "cell_type": "code",
   "execution_count": 42,
   "metadata": {},
   "outputs": [],
   "source": [
    "# Проведемо Backward Elimination with p-values\n",
    "import statsmodels.api as sm\n",
    "def backwardElimination(x, sl):\n",
    "    numVars = len(x[0])\n",
    "    for i in range(0, numVars):\n",
    "        regressor_OLS = sm.OLS(y, x).fit()\n",
    "        maxVar = max(regressor_OLS.pvalues).astype(float)\n",
    "        if maxVar > sl:\n",
    "            for j in range(0, numVars - i):\n",
    "                if (regressor_OLS.pvalues[j].astype(float) == maxVar):\n",
    "                    x = np.delete(x, j, 1)\n",
    "    regressor_OLS.summary()\n",
    "    return x\n",
    "         \n",
    "SL = 0.05\n",
    "X_opt = X_train[:, [0, 1, 2, 3, 4]]\n",
    "y = y_train\n",
    "X_Modeled = backwardElimination(X_opt, SL)"
   ]
  },
  {
   "cell_type": "code",
   "execution_count": 43,
   "metadata": {},
   "outputs": [
    {
     "data": {
      "text/plain": [
       "array([[43.75 ,  3.8  ,  2.512,  3.998],\n",
       "       [45.   , 13.3  ,  9.098,  9.303],\n",
       "       [45.   ,  3.4  ,  5.074,  4.768],\n",
       "       ...,\n",
       "       [45.   ,  7.4  ,  7.131,  7.256],\n",
       "       [43.75 ,  4.1  ,  3.285,  4.87 ],\n",
       "       [45.   ,  3.3  ,  1.966,  2.35 ]])"
      ]
     },
     "execution_count": 43,
     "metadata": {},
     "output_type": "execute_result"
    }
   ],
   "source": [
    "X_Modeled"
   ]
  },
  {
   "cell_type": "code",
   "execution_count": 44,
   "metadata": {},
   "outputs": [
    {
     "data": {
      "text/plain": [
       "array([[43.75 ,  3.8  ,  2.512,  3.225,  3.998],\n",
       "       [45.   , 13.3  ,  9.098,  9.088,  9.303],\n",
       "       [45.   ,  3.4  ,  5.074,  4.878,  4.768],\n",
       "       ...,\n",
       "       [45.   ,  7.4  ,  7.131,  7.143,  7.256],\n",
       "       [43.75 ,  4.1  ,  3.285,  3.864,  4.87 ],\n",
       "       [45.   ,  3.3  ,  1.966,  2.349,  2.35 ]])"
      ]
     },
     "execution_count": 44,
     "metadata": {},
     "output_type": "execute_result"
    }
   ],
   "source": [
    "X_opt"
   ]
  },
  {
   "cell_type": "markdown",
   "metadata": {},
   "source": [
    "З отриманих даних помітно, що в моделі можна залишити всі змінні, окрім 'Location 5'"
   ]
  },
  {
   "cell_type": "code",
   "execution_count": 45,
   "metadata": {},
   "outputs": [],
   "source": [
    "# Для початку створимо датафрейм, в якому будуть міститись лише необхідні нам змінні\n",
    "df1 = df[['ActualPower', 'Max Capacity', 'Location 1', 'Location 3', 'Location 7']]\n",
    "# Розіб'ємо записані дані на тренувальну і тестові вибірки\n",
    "X1 = df1.iloc[:, 1:].values\n",
    "y1 = df1.iloc[:, 0:1].values\n",
    "from sklearn.model_selection import train_test_split\n",
    "X_train1, X_test1, y_train1, y_test1 = train_test_split(X1, y1, test_size=0.2, random_state=1)"
   ]
  },
  {
   "cell_type": "code",
   "execution_count": 46,
   "metadata": {},
   "outputs": [],
   "source": [
    "# Fitting Optimized Multiple Linear Regression to the Training set\n",
    "from sklearn.linear_model import LinearRegression\n",
    "omr = LinearRegression().fit(X_train1[:, 0:4], y_train1)"
   ]
  },
  {
   "cell_type": "code",
   "execution_count": 47,
   "metadata": {},
   "outputs": [
    {
     "data": {
      "text/plain": [
       "(array([[-0.38815165,  0.08093224, -0.3331628 ,  0.46266725]]),\n",
       " array([18.17488669]))"
      ]
     },
     "execution_count": 47,
     "metadata": {},
     "output_type": "execute_result"
    }
   ],
   "source": [
    "# Getting parameters\n",
    "omr.coef_, omr.intercept_\n",
    "# Рівняння мнодинної лінійної регресії має наступний вигляд:\n",
    "# -0.388*х1 + 0.809*х2 - 0.333*х3 + 0.463*х5 + 18.175"
   ]
  },
  {
   "cell_type": "code",
   "execution_count": 48,
   "metadata": {},
   "outputs": [],
   "source": [
    "# Predicting the Test set results\n",
    "y_pred = omr.predict(X_test1)"
   ]
  },
  {
   "cell_type": "code",
   "execution_count": 49,
   "metadata": {},
   "outputs": [
    {
     "data": {
      "text/plain": [
       "(0.29498946320452224, 0.249179075905679)"
      ]
     },
     "execution_count": 49,
     "metadata": {},
     "output_type": "execute_result"
    }
   ],
   "source": [
    "# Обчислимо коефіцієнти детермінації R^2 для кожної із вибірок\n",
    "omr.score(X_train1, y_train1), omr.score(X_test1, y_test1)"
   ]
  },
  {
   "cell_type": "markdown",
   "metadata": {},
   "source": [
    "З усіх розглянутих на даний момент моделей, дана оптимізована моделб має найбільші значення коефіцієнтів детермінації для обох вибірок. Проте значення коефіцієнтів залишаються незадовільно низькими і не можуть дозволити використовувати дану модель на практиці. Варто зазначити, що в усіх лінійних моделях спостерігається проблема, що дані перенавчені, оскільки коефіцієнт детермінації на тренувальних даних є вижчим, ніж на тестових. Тобто моделі є перенавченими."
   ]
  },
  {
   "cell_type": "code",
   "execution_count": 50,
   "metadata": {},
   "outputs": [
    {
     "data": {
      "image/png": "[encoded data removed]",
      "text/plain": [
       "<Figure size 432x288 with 1 Axes>"
      ]
     },
     "metadata": {
      "needs_background": "light"
     },
     "output_type": "display_data"
    }
   ],
   "source": [
    "plt.scatter(X_train1[:,3], y_train1, color = 'red')\n",
    "plt.plot(X_train1[:,3], omr.predict(X_train1), 'bo')\n",
    "plt.title('ActualPower vs Location 7 (Training set)')\n",
    "plt.xlabel('Location 7')\n",
    "plt.ylabel('ActualPower')\n",
    "plt.show()"
   ]
  },
  {
   "cell_type": "code",
   "execution_count": 51,
   "metadata": {},
   "outputs": [
    {
     "data": {
      "image/png": "[encoded data removed]",
      "text/plain": [
       "<Figure size 432x288 with 1 Axes>"
      ]
     },
     "metadata": {
      "needs_background": "light"
     },
     "output_type": "display_data"
    }
   ],
   "source": [
    "plt.scatter(X_test1[:,3], y_test1, color = 'red')\n",
    "plt.plot(X_test1[:,3], omr.predict(X_test1), 'bo')\n",
    "plt.title('ActualPower vs Location 7 (Test set)')\n",
    "plt.xlabel('Location 7')\n",
    "plt.ylabel('ActualPower')\n",
    "plt.show()"
   ]
  },
  {
   "cell_type": "code",
   "execution_count": 52,
   "metadata": {},
   "outputs": [],
   "source": [
    "# Обчислимо середньоквадратичні помилки для даної моделі\n",
    "from sklearn.metrics import mean_squared_error\n",
    "mse_omr_train = mean_squared_error(omr.predict(X_train1), y_train1)\n",
    "mse_omr_test = mean_squared_error(omr.predict(X_test1), y_test1)"
   ]
  },
  {
   "cell_type": "markdown",
   "metadata": {},
   "source": [
    "Далі змоделюємо дані за допомогою дерева рішень. Спочатку розглянемо модель, в якій в якості незалежної змінної буде виступати лише 'Location 7'"
   ]
  },
  {
   "cell_type": "code",
   "execution_count": 53,
   "metadata": {},
   "outputs": [],
   "source": [
    "# Fitting Tree to the Training set (Income)\n",
    "from sklearn.tree import DecisionTreeRegressor\n",
    "sdt = DecisionTreeRegressor(max_depth=4).fit(X_train[:, 4:], y_train)"
   ]
  },
  {
   "cell_type": "markdown",
   "metadata": {},
   "source": [
    "Методом перебору було вибрано в якості максимальної кіл-сті гілок обрати 4, так за таких умов коефіцієнт детермінації тестової вибірки був найбільшим і різниця між коефіцієнтами тренувальної і тестової була відносно не надто великою."
   ]
  },
  {
   "cell_type": "code",
   "execution_count": 54,
   "metadata": {},
   "outputs": [],
   "source": [
    "# Predicting the Test set results\n",
    "y_pred = sdt.predict(X_test[:, 4:])"
   ]
  },
  {
   "cell_type": "code",
   "execution_count": 55,
   "metadata": {},
   "outputs": [
    {
     "data": {
      "text/plain": [
       "(0.4448206943528137, 0.33229800671951515)"
      ]
     },
     "execution_count": 55,
     "metadata": {},
     "output_type": "execute_result"
    }
   ],
   "source": [
    "# Coefficient of determination R^2\n",
    "sdt.score(X_train[:, 4:], y_train), sdt.score(X_test[:, 4:], y_test)"
   ]
  },
  {
   "cell_type": "markdown",
   "metadata": {},
   "source": [
    "В даній моделі також спостерігається проблема перенавчання. Загалом значення коефіцієнтів детермінації є вищими, ніж у лінійних моделей, але все одно залишається низькими"
   ]
  },
  {
   "cell_type": "code",
   "execution_count": 56,
   "metadata": {},
   "outputs": [
    {
     "data": {
      "image/png": "[encoded data removed]",
      "text/plain": [
       "<Figure size 432x288 with 1 Axes>"
      ]
     },
     "metadata": {
      "needs_background": "light"
     },
     "output_type": "display_data"
    }
   ],
   "source": [
    "# Visualising the Training set results\n",
    "X_grid = np.arange(min(X[:, 4:]), max(X[:, 4:]), 0.01)\n",
    "X_grid = X_grid.reshape((len(X_grid), 1))\n",
    "plt.plot(X_grid, sdt.predict(X_grid), color = 'blue')\n",
    "plt.scatter(X_train[:,4], y_train, color = 'red')\n",
    "plt.plot(X_train[:,4], sdt.predict(X_train[:, 4:]), 'bo')\n",
    "plt.title('ActualPower vs Location 7 (Training set)')\n",
    "plt.xlabel('Location 7')\n",
    "plt.ylabel('ActualPower')\n",
    "plt.show()"
   ]
  },
  {
   "cell_type": "code",
   "execution_count": 57,
   "metadata": {},
   "outputs": [
    {
     "data": {
      "image/png": "[encoded data removed]",
      "text/plain": [
       "<Figure size 432x288 with 1 Axes>"
      ]
     },
     "metadata": {
      "needs_background": "light"
     },
     "output_type": "display_data"
    }
   ],
   "source": [
    "# Visualising the Test set results\n",
    "X_grid = np.arange(min(X[:, 4:]), max(X[:, 4:]), 0.01)\n",
    "X_grid = X_grid.reshape((len(X_grid), 1))\n",
    "plt.plot(X_grid, sdt.predict(X_grid), color = 'blue')\n",
    "plt.scatter(X_test[:,4], y_test, color = 'red')\n",
    "plt.plot(X_test[:,4], sdt.predict(X_test[:, 4:]), 'bo')\n",
    "plt.title('ActualPower vs Location 7 (Test set)')\n",
    "plt.xlabel('Location 7')\n",
    "plt.ylabel('ActualPower')\n",
    "plt.show()"
   ]
  },
  {
   "cell_type": "code",
   "execution_count": 58,
   "metadata": {},
   "outputs": [],
   "source": [
    "# Обчислимо середньоквадратичні помилки для даної моделі\n",
    "from sklearn.metrics import mean_squared_error\n",
    "mse_sdt_train = mean_squared_error(sdt.predict(X_train[:, 4:]), y_train)\n",
    "mse_sdt_test = mean_squared_error(sdt.predict(X_test[:, 4:]), y_test)"
   ]
  },
  {
   "cell_type": "markdown",
   "metadata": {},
   "source": [
    "Тепер розглянемо модель дерева рішень, в якій декілька незалежних змінних. В якості регресорів будемо використовувати ті змінні, які були включені до оптимальної множинної регресії"
   ]
  },
  {
   "cell_type": "code",
   "execution_count": 59,
   "metadata": {},
   "outputs": [],
   "source": [
    "from sklearn.tree import DecisionTreeRegressor\n",
    "dt = DecisionTreeRegressor(max_depth=3).fit(X_train1, y_train1)"
   ]
  },
  {
   "cell_type": "markdown",
   "metadata": {},
   "source": [
    "Методом перебору було вибрано в якості максимальної кіл-сті гілок обрати 3, так за таких умов спостерігається найвище значення на тестовій вибірці."
   ]
  },
  {
   "cell_type": "code",
   "execution_count": 60,
   "metadata": {},
   "outputs": [],
   "source": [
    "# Predicting the Test set results\n",
    "y_pred = dt.predict(X_test1)"
   ]
  },
  {
   "cell_type": "code",
   "execution_count": 61,
   "metadata": {},
   "outputs": [
    {
     "data": {
      "text/plain": [
       "(0.3862686852541557, 0.30940434670271044)"
      ]
     },
     "execution_count": 61,
     "metadata": {},
     "output_type": "execute_result"
    }
   ],
   "source": [
    "# Coefficient of determination R^2\n",
    "dt.score(X_train1, y_train1), dt.score(X_test1, y_test1)"
   ]
  },
  {
   "cell_type": "markdown",
   "metadata": {},
   "source": [
    "Загалом значення коефіцієнтів детермінації є вищими, ніж у лінійних моделей, але разом з тим поступаються значенням простого дерева рішень."
   ]
  },
  {
   "cell_type": "code",
   "execution_count": 62,
   "metadata": {},
   "outputs": [
    {
     "data": {
      "image/png": "[encoded data removed]",
      "text/plain": [
       "<Figure size 432x288 with 1 Axes>"
      ]
     },
     "metadata": {
      "needs_background": "light"
     },
     "output_type": "display_data"
    }
   ],
   "source": [
    "# Visualising the Training set results\n",
    "plt.scatter(X_train1[:,3], y_train1, color = 'red')\n",
    "plt.plot(X_train1[:,3], dt.predict(X_train1), 'bo')\n",
    "plt.title('ActualPower vs Location 7 (Training set)')\n",
    "plt.xlabel('Location 7')\n",
    "plt.ylabel('ActualPower')\n",
    "plt.show()"
   ]
  },
  {
   "cell_type": "code",
   "execution_count": 63,
   "metadata": {},
   "outputs": [
    {
     "data": {
      "image/png": "[encoded data removed]",
      "text/plain": [
       "<Figure size 432x288 with 1 Axes>"
      ]
     },
     "metadata": {
      "needs_background": "light"
     },
     "output_type": "display_data"
    }
   ],
   "source": [
    "# Visualising the Test set results\n",
    "plt.scatter(X_test1[:,3], y_test1, color = 'red')\n",
    "plt.plot(X_test1[:,3], dt.predict(X_test1), 'bo')\n",
    "plt.title('ActualPower vs Location 7 (Test set)')\n",
    "plt.xlabel('Location 7')\n",
    "plt.ylabel('ActualPower')\n",
    "plt.show()"
   ]
  },
  {
   "cell_type": "code",
   "execution_count": 64,
   "metadata": {},
   "outputs": [],
   "source": [
    "# Обчислимо середньоквадратичні помилки для даної моделі\n",
    "from sklearn.metrics import mean_squared_error\n",
    "mse_dt_train = mean_squared_error(dt.predict(X_train1), y_train1)\n",
    "mse_dt_test = mean_squared_error(dt.predict(X_test1), y_test1)"
   ]
  },
  {
   "cell_type": "markdown",
   "metadata": {},
   "source": [
    "Тепер розглянемо модель випадкового лісу, в якій декілька незалежних змінних. В якості регресорів будемо використовувати ті змінні, які були включені до оптимальної множинної регресії"
   ]
  },
  {
   "cell_type": "code",
   "execution_count": 65,
   "metadata": {},
   "outputs": [
    {
     "name": "stderr",
     "output_type": "stream",
     "text": [
      "C:\\Users\\38095\\anaconda3\\envs\\labvika\\lib\\site-packages\\ipykernel_launcher.py:2: DataConversionWarning: A column-vector y was passed when a 1d array was expected. Please change the shape of y to (n_samples,), for example using ravel().\n",
      "  \n"
     ]
    }
   ],
   "source": [
    "from sklearn.ensemble import RandomForestRegressor\n",
    "rf = RandomForestRegressor(n_estimators = 4, random_state = 0, max_depth=6).fit(X_train1, y_train1)"
   ]
  },
  {
   "cell_type": "markdown",
   "metadata": {},
   "source": [
    "Методом перебору була вибрана дана архітектура, так як за таких умов спостерігається найвище значення коефіцієнта детермінації тестової вибірки"
   ]
  },
  {
   "cell_type": "code",
   "execution_count": 66,
   "metadata": {},
   "outputs": [],
   "source": [
    "# Predicting the Test set results\n",
    "y_pred = rf.predict(X_test1)"
   ]
  },
  {
   "cell_type": "code",
   "execution_count": 67,
   "metadata": {},
   "outputs": [
    {
     "data": {
      "text/plain": [
       "(0.6651590473628539, 0.4124421598320066)"
      ]
     },
     "execution_count": 67,
     "metadata": {},
     "output_type": "execute_result"
    }
   ],
   "source": [
    "# Coefficient of determination R^2\n",
    "rf.score(X_train1, y_train1), rf.score(X_test1, y_test1)"
   ]
  },
  {
   "cell_type": "markdown",
   "metadata": {},
   "source": [
    "Серед усіх розглянутих моделей, в даної моделі найвищі значення коефіцієнтів детермінації, але вони є низькими."
   ]
  },
  {
   "cell_type": "code",
   "execution_count": 69,
   "metadata": {},
   "outputs": [
    {
     "data": {
      "image/png": "[encoded data removed]",
      "text/plain": [
       "<Figure size 432x288 with 1 Axes>"
      ]
     },
     "metadata": {
      "needs_background": "light"
     },
     "output_type": "display_data"
    }
   ],
   "source": [
    "# Visualising the Training set results\n",
    "plt.scatter(X_train1[:,3], y_train1, color = 'red')\n",
    "plt.plot(X_train1[:,3], rf.predict(X_train1), 'bo')\n",
    "plt.title('ActualPower vs Location 7 (Training set)')\n",
    "plt.xlabel('Location 7')\n",
    "plt.ylabel('ActualPower')\n",
    "plt.show()"
   ]
  },
  {
   "cell_type": "code",
   "execution_count": 70,
   "metadata": {},
   "outputs": [
    {
     "data": {
      "image/png": "[encoded data removed]",
      "text/plain": [
       "<Figure size 432x288 with 1 Axes>"
      ]
     },
     "metadata": {
      "needs_background": "light"
     },
     "output_type": "display_data"
    }
   ],
   "source": [
    "# Visualising the Test set results\n",
    "plt.scatter(X_test1[:,3], y_test1, color = 'red')\n",
    "plt.plot(X_test1[:,3], rf.predict(X_test1), 'bo')\n",
    "plt.title('ActualPower vs Location 7 (Test set)')\n",
    "plt.xlabel('Location 7')\n",
    "plt.ylabel('ActualPower')\n",
    "plt.show()"
   ]
  },
  {
   "cell_type": "code",
   "execution_count": 71,
   "metadata": {},
   "outputs": [],
   "source": [
    "# Обчислимо середньоквадратичні помилки для даної моделі\n",
    "from sklearn.metrics import mean_squared_error\n",
    "mse_rf_train = mean_squared_error(rf.predict(X_train1), y_train1)\n",
    "mse_rf_test = mean_squared_error(rf.predict(X_test1), y_test1)"
   ]
  },
  {
   "cell_type": "markdown",
   "metadata": {},
   "source": [
    "Тепер для регресії застосуємо нейронні мережі. Побудуємо декілька варіантів моделей. Для побудови моделей будемо використовувати оптимальні змінні."
   ]
  },
  {
   "cell_type": "code",
   "execution_count": 72,
   "metadata": {},
   "outputs": [],
   "source": [
    "# Для початку відшкалюємо дані\n",
    "# Feature Scaling\n",
    "from sklearn.preprocessing import StandardScaler\n",
    "df2 = df[['ActualPower', 'Max Capacity', 'Location 1', 'Location 3', 'Location 7']]\n",
    "# Splitting the dataset into the Training set and Test set\n",
    "X2 = df2.iloc[:, 1:].values\n",
    "y2 = df2.iloc[:, :-4].values\n",
    "from sklearn.model_selection import train_test_split\n",
    "X_train2, X_test2, y_train2, y_test2 = train_test_split(X2, y2, test_size=0.2, random_state=1)\n",
    "scalerX=StandardScaler().fit(X_train2)\n",
    "scalerY=StandardScaler().fit(y_train2)\n",
    "X_train2=scalerX.transform(X_train2)\n",
    "y_train2=scalerY.transform(y_train2)\n",
    "X_test2=scalerX.transform(X_test2)\n",
    "y_test2=scalerY.transform(y_test2)"
   ]
  },
  {
   "cell_type": "code",
   "execution_count": 73,
   "metadata": {},
   "outputs": [
    {
     "name": "stderr",
     "output_type": "stream",
     "text": [
      "Using TensorFlow backend.\n"
     ]
    }
   ],
   "source": [
    "# Install Tensorflow\n",
    "# Install Keras\n",
    "# Importing the Keras libraries and packages\n",
    "import keras\n",
    "from keras.models import Sequential\n",
    "from keras.layers import Dense\n",
    "from keras.layers import Input"
   ]
  },
  {
   "cell_type": "code",
   "execution_count": 74,
   "metadata": {},
   "outputs": [
    {
     "name": "stderr",
     "output_type": "stream",
     "text": [
      "C:\\Users\\38095\\anaconda3\\envs\\labvika\\lib\\site-packages\\ipykernel_launcher.py:8: UserWarning: Update your `Dense` call to the Keras 2 API: `Dense(activation=\"tanh\", input_dim=4, units=4)`\n",
      "  \n"
     ]
    }
   ],
   "source": [
    "# Initialising the ANN \n",
    "'''\n",
    "Ініціалізуємо нейронну мережу з архітектурою 4-4-1\n",
    "'''\n",
    "rnn1 = Sequential()\n",
    "\n",
    "# Adding the input layer and the first hidden layer\n",
    "rnn1.add(Dense(output_dim = 4, activation = 'tanh', input_dim = 4))\n",
    "\n",
    "# Adding the output layer\n",
    "rnn1.add(Dense(1, activation='linear'))\n",
    "\n",
    "# Compiling the ANN\n",
    "rnn1.compile(optimizer='adam', loss='mean_squared_error', metrics = ['accuracy'])"
   ]
  },
  {
   "cell_type": "code",
   "execution_count": 75,
   "metadata": {},
   "outputs": [
    {
     "name": "stderr",
     "output_type": "stream",
     "text": [
      "C:\\Users\\38095\\anaconda3\\envs\\labvika\\lib\\site-packages\\ipykernel_launcher.py:2: UserWarning: The `nb_epoch` argument in `fit` has been renamed `epochs`.\n",
      "  \n"
     ]
    },
    {
     "name": "stdout",
     "output_type": "stream",
     "text": [
      "Epoch 1/100\n",
      "260/260 [==============================] - 0s 842us/step - loss: 1.3624 - accuracy: 0.0000e+00\n",
      "Epoch 2/100\n",
      "260/260 [==============================] - 0s 184us/step - loss: 1.2506 - accuracy: 0.0000e+00\n",
      "Epoch 3/100\n",
      "260/260 [==============================] - 0s 184us/step - loss: 1.1594 - accuracy: 0.0000e+00\n",
      "Epoch 4/100\n",
      "260/260 [==============================] - 0s 200us/step - loss: 1.0839 - accuracy: 0.0000e+00\n",
      "Epoch 5/100\n",
      "260/260 [==============================] - 0s 193us/step - loss: 1.0239 - accuracy: 0.0000e+00\n",
      "Epoch 6/100\n",
      "260/260 [==============================] - 0s 200us/step - loss: 0.9769 - accuracy: 0.0000e+00\n",
      "Epoch 7/100\n",
      "260/260 [==============================] - 0s 195us/step - loss: 0.9390 - accuracy: 0.0000e+00\n",
      "Epoch 8/100\n",
      "260/260 [==============================] - 0s 193us/step - loss: 0.9105 - accuracy: 0.0000e+00\n",
      "Epoch 9/100\n",
      "260/260 [==============================] - 0s 169us/step - loss: 0.8898 - accuracy: 0.0000e+00\n",
      "Epoch 10/100\n",
      "260/260 [==============================] - 0s 186us/step - loss: 0.8700 - accuracy: 0.0000e+00\n",
      "Epoch 11/100\n",
      "260/260 [==============================] - 0s 165us/step - loss: 0.8565 - accuracy: 0.0000e+00\n",
      "Epoch 12/100\n",
      "260/260 [==============================] - 0s 236us/step - loss: 0.8456 - accuracy: 0.0000e+00\n",
      "Epoch 13/100\n",
      "260/260 [==============================] - 0s 191us/step - loss: 0.8371 - accuracy: 0.0000e+00\n",
      "Epoch 14/100\n",
      "260/260 [==============================] - 0s 186us/step - loss: 0.8286 - accuracy: 0.0000e+00\n",
      "Epoch 15/100\n",
      "260/260 [==============================] - 0s 193us/step - loss: 0.8228 - accuracy: 0.0000e+00\n",
      "Epoch 16/100\n",
      "260/260 [==============================] - 0s 199us/step - loss: 0.8167 - accuracy: 0.0000e+00\n",
      "Epoch 17/100\n",
      "260/260 [==============================] - 0s 192us/step - loss: 0.8120 - accuracy: 0.0000e+00\n",
      "Epoch 18/100\n",
      "260/260 [==============================] - 0s 223us/step - loss: 0.8069 - accuracy: 0.0000e+00\n",
      "Epoch 19/100\n",
      "260/260 [==============================] - 0s 200us/step - loss: 0.8031 - accuracy: 0.0000e+00\n",
      "Epoch 20/100\n",
      "260/260 [==============================] - 0s 199us/step - loss: 0.7995 - accuracy: 0.0000e+00\n",
      "Epoch 21/100\n",
      "260/260 [==============================] - 0s 196us/step - loss: 0.7960 - accuracy: 0.0000e+00\n",
      "Epoch 22/100\n",
      "260/260 [==============================] - 0s 189us/step - loss: 0.7927 - accuracy: 0.0000e+00\n",
      "Epoch 23/100\n",
      "260/260 [==============================] - 0s 193us/step - loss: 0.7894 - accuracy: 0.0000e+00\n",
      "Epoch 24/100\n",
      "260/260 [==============================] - 0s 195us/step - loss: 0.7869 - accuracy: 0.0000e+00\n",
      "Epoch 25/100\n",
      "260/260 [==============================] - 0s 188us/step - loss: 0.7840 - accuracy: 0.0000e+00\n",
      "Epoch 26/100\n",
      "260/260 [==============================] - 0s 196us/step - loss: 0.7814 - accuracy: 0.0000e+00\n",
      "Epoch 27/100\n",
      "260/260 [==============================] - 0s 174us/step - loss: 0.7785 - accuracy: 0.0000e+00\n",
      "Epoch 28/100\n",
      "260/260 [==============================] - 0s 188us/step - loss: 0.7765 - accuracy: 0.0000e+00\n",
      "Epoch 29/100\n",
      "260/260 [==============================] - 0s 353us/step - loss: 0.7734 - accuracy: 0.0000e+00\n",
      "Epoch 30/100\n",
      "260/260 [==============================] - 0s 383us/step - loss: 0.7718 - accuracy: 0.0000e+00\n",
      "Epoch 31/100\n",
      "260/260 [==============================] - 0s 380us/step - loss: 0.7687 - accuracy: 0.0000e+00\n",
      "Epoch 32/100\n",
      "260/260 [==============================] - 0s 380us/step - loss: 0.7666 - accuracy: 0.0000e+00\n",
      "Epoch 33/100\n",
      "260/260 [==============================] - 0s 379us/step - loss: 0.7647 - accuracy: 0.0000e+00\n",
      "Epoch 34/100\n",
      "260/260 [==============================] - 0s 385us/step - loss: 0.7623 - accuracy: 0.0000e+00\n",
      "Epoch 35/100\n",
      "260/260 [==============================] - 0s 385us/step - loss: 0.7625 - accuracy: 0.0000e+00\n",
      "Epoch 36/100\n",
      "260/260 [==============================] - 0s 378us/step - loss: 0.7586 - accuracy: 0.0000e+00\n",
      "Epoch 37/100\n",
      "260/260 [==============================] - 0s 388us/step - loss: 0.7565 - accuracy: 0.0000e+00\n",
      "Epoch 38/100\n",
      "260/260 [==============================] - 0s 404us/step - loss: 0.7552 - accuracy: 0.0000e+00\n",
      "Epoch 39/100\n",
      "260/260 [==============================] - 0s 371us/step - loss: 0.7532 - accuracy: 0.0000e+00\n",
      "Epoch 40/100\n",
      "260/260 [==============================] - 0s 399us/step - loss: 0.7513 - accuracy: 0.0000e+00\n",
      "Epoch 41/100\n",
      "260/260 [==============================] - 0s 378us/step - loss: 0.7491 - accuracy: 0.0000e+00\n",
      "Epoch 42/100\n",
      "260/260 [==============================] - 0s 340us/step - loss: 0.7473 - accuracy: 0.0000e+00\n",
      "Epoch 43/100\n",
      "260/260 [==============================] - 0s 162us/step - loss: 0.7473 - accuracy: 0.0000e+00\n",
      "Epoch 44/100\n",
      "260/260 [==============================] - 0s 177us/step - loss: 0.7432 - accuracy: 0.0000e+00\n",
      "Epoch 45/100\n",
      "260/260 [==============================] - 0s 185us/step - loss: 0.7415 - accuracy: 0.0000e+00\n",
      "Epoch 46/100\n",
      "260/260 [==============================] - 0s 190us/step - loss: 0.7404 - accuracy: 0.0000e+00\n",
      "Epoch 47/100\n",
      "260/260 [==============================] - 0s 189us/step - loss: 0.7391 - accuracy: 0.0000e+00\n",
      "Epoch 48/100\n",
      "260/260 [==============================] - 0s 193us/step - loss: 0.7370 - accuracy: 0.0000e+00\n",
      "Epoch 49/100\n",
      "260/260 [==============================] - 0s 196us/step - loss: 0.7346 - accuracy: 0.0000e+00\n",
      "Epoch 50/100\n",
      "260/260 [==============================] - 0s 196us/step - loss: 0.7331 - accuracy: 0.0000e+00\n",
      "Epoch 51/100\n",
      "260/260 [==============================] - 0s 191us/step - loss: 0.7319 - accuracy: 0.0000e+00\n",
      "Epoch 52/100\n",
      "260/260 [==============================] - 0s 196us/step - loss: 0.7296 - accuracy: 0.0000e+00\n",
      "Epoch 53/100\n",
      "260/260 [==============================] - 0s 173us/step - loss: 0.7284 - accuracy: 0.0000e+00\n",
      "Epoch 54/100\n",
      "260/260 [==============================] - 0s 188us/step - loss: 0.7271 - accuracy: 0.0000e+00\n",
      "Epoch 55/100\n",
      "260/260 [==============================] - 0s 225us/step - loss: 0.7251 - accuracy: 0.0000e+00\n",
      "Epoch 56/100\n",
      "260/260 [==============================] - 0s 195us/step - loss: 0.7243 - accuracy: 0.0000e+00\n",
      "Epoch 57/100\n",
      "260/260 [==============================] - 0s 194us/step - loss: 0.7237 - accuracy: 0.0000e+00\n",
      "Epoch 58/100\n",
      "260/260 [==============================] - 0s 189us/step - loss: 0.7224 - accuracy: 0.0000e+00\n",
      "Epoch 59/100\n",
      "260/260 [==============================] - 0s 194us/step - loss: 0.7195 - accuracy: 0.0000e+00\n",
      "Epoch 60/100\n",
      "260/260 [==============================] - 0s 380us/step - loss: 0.7183 - accuracy: 0.0000e+00\n",
      "Epoch 61/100\n",
      "260/260 [==============================] - 0s 363us/step - loss: 0.7169 - accuracy: 0.0000e+00\n",
      "Epoch 62/100\n",
      "260/260 [==============================] - 0s 343us/step - loss: 0.7168 - accuracy: 0.0000e+00\n",
      "Epoch 63/100\n",
      "260/260 [==============================] - 0s 184us/step - loss: 0.7144 - accuracy: 0.0000e+00\n",
      "Epoch 64/100\n",
      "260/260 [==============================] - 0s 181us/step - loss: 0.7136 - accuracy: 0.0000e+00\n",
      "Epoch 65/100\n",
      "260/260 [==============================] - 0s 197us/step - loss: 0.7124 - accuracy: 0.0000e+00\n",
      "Epoch 66/100\n",
      "260/260 [==============================] - 0s 196us/step - loss: 0.7112 - accuracy: 0.0000e+00\n",
      "Epoch 67/100\n",
      "260/260 [==============================] - 0s 189us/step - loss: 0.7098 - accuracy: 0.0000e+00\n",
      "Epoch 68/100\n",
      "260/260 [==============================] - 0s 184us/step - loss: 0.7093 - accuracy: 0.0000e+00\n",
      "Epoch 69/100\n",
      "260/260 [==============================] - 0s 181us/step - loss: 0.7079 - accuracy: 0.0000e+00\n",
      "Epoch 70/100\n",
      "260/260 [==============================] - 0s 181us/step - loss: 0.7073 - accuracy: 0.0000e+00\n",
      "Epoch 71/100\n",
      "260/260 [==============================] - 0s 177us/step - loss: 0.7073 - accuracy: 0.0000e+00\n",
      "Epoch 72/100\n",
      "260/260 [==============================] - 0s 180us/step - loss: 0.7047 - accuracy: 0.0000e+00\n",
      "Epoch 73/100\n",
      "260/260 [==============================] - 0s 189us/step - loss: 0.7041 - accuracy: 0.0000e+00\n",
      "Epoch 74/100\n",
      "260/260 [==============================] - 0s 186us/step - loss: 0.7033 - accuracy: 0.0000e+00\n",
      "Epoch 75/100\n",
      "260/260 [==============================] - 0s 173us/step - loss: 0.7034 - accuracy: 0.0000e+00\n",
      "Epoch 76/100\n",
      "260/260 [==============================] - 0s 170us/step - loss: 0.7007 - accuracy: 0.0000e+00\n"
     ]
    },
    {
     "name": "stdout",
     "output_type": "stream",
     "text": [
      "Epoch 77/100\n",
      "260/260 [==============================] - 0s 177us/step - loss: 0.7002 - accuracy: 0.0000e+00\n",
      "Epoch 78/100\n",
      "260/260 [==============================] - 0s 293us/step - loss: 0.6993 - accuracy: 0.0000e+00\n",
      "Epoch 79/100\n",
      "260/260 [==============================] - 0s 361us/step - loss: 0.6980 - accuracy: 0.0000e+00\n",
      "Epoch 80/100\n",
      "260/260 [==============================] - 0s 369us/step - loss: 0.7007 - accuracy: 0.0000e+00\n",
      "Epoch 81/100\n",
      "260/260 [==============================] - 0s 368us/step - loss: 0.6975 - accuracy: 0.0000e+00\n",
      "Epoch 82/100\n",
      "260/260 [==============================] - 0s 351us/step - loss: 0.6964 - accuracy: 0.0000e+00\n",
      "Epoch 83/100\n",
      "260/260 [==============================] - 0s 375us/step - loss: 0.6953 - accuracy: 0.0000e+00\n",
      "Epoch 84/100\n",
      "260/260 [==============================] - 0s 358us/step - loss: 0.6949 - accuracy: 0.0000e+00\n",
      "Epoch 85/100\n",
      "260/260 [==============================] - 0s 364us/step - loss: 0.6936 - accuracy: 0.0000e+00\n",
      "Epoch 86/100\n",
      "260/260 [==============================] - 0s 399us/step - loss: 0.6929 - accuracy: 0.0000e+00\n",
      "Epoch 87/100\n",
      "260/260 [==============================] - 0s 376us/step - loss: 0.6924 - accuracy: 0.0000e+00\n",
      "Epoch 88/100\n",
      "260/260 [==============================] - 0s 368us/step - loss: 0.6927 - accuracy: 0.0000e+00\n",
      "Epoch 89/100\n",
      "260/260 [==============================] - 0s 374us/step - loss: 0.6913 - accuracy: 0.0000e+00\n",
      "Epoch 90/100\n",
      "260/260 [==============================] - 0s 381us/step - loss: 0.6909 - accuracy: 0.0000e+00\n",
      "Epoch 91/100\n",
      "260/260 [==============================] - 0s 380us/step - loss: 0.6913 - accuracy: 0.0000e+00\n",
      "Epoch 92/100\n",
      "260/260 [==============================] - 0s 374us/step - loss: 0.6898 - accuracy: 0.0000e+00\n",
      "Epoch 93/100\n",
      "260/260 [==============================] - 0s 388us/step - loss: 0.6887 - accuracy: 0.0000e+00\n",
      "Epoch 94/100\n",
      "260/260 [==============================] - 0s 380us/step - loss: 0.6889 - accuracy: 0.0000e+00\n",
      "Epoch 95/100\n",
      "260/260 [==============================] - 0s 391us/step - loss: 0.6879 - accuracy: 0.0000e+00\n",
      "Epoch 96/100\n",
      "260/260 [==============================] - 0s 378us/step - loss: 0.6876 - accuracy: 0.0000e+00\n",
      "Epoch 97/100\n",
      "260/260 [==============================] - 0s 173us/step - loss: 0.6881 - accuracy: 0.0000e+00\n",
      "Epoch 98/100\n",
      "260/260 [==============================] - 0s 186us/step - loss: 0.6864 - accuracy: 0.0000e+00\n",
      "Epoch 99/100\n",
      "260/260 [==============================] - 0s 261us/step - loss: 0.6863 - accuracy: 0.0000e+00\n",
      "Epoch 100/100\n",
      "260/260 [==============================] - 0s 254us/step - loss: 0.6860 - accuracy: 0.0000e+00\n"
     ]
    },
    {
     "data": {
      "text/plain": [
       "<keras.callbacks.callbacks.History at 0x29db5bbb848>"
      ]
     },
     "execution_count": 75,
     "metadata": {},
     "output_type": "execute_result"
    }
   ],
   "source": [
    "# Fitting the ANN to the Training set\n",
    "rnn1.fit(X_train2, y_train2, batch_size = 10, nb_epoch = 100)"
   ]
  },
  {
   "cell_type": "code",
   "execution_count": 76,
   "metadata": {},
   "outputs": [],
   "source": [
    "# Predict the Training set results\n",
    "y_modeled1=rnn1.predict(X_train2)\n",
    "# Predicting the Test set results\n",
    "y_pred1 = rnn1.predict(X_test2)"
   ]
  },
  {
   "cell_type": "code",
   "execution_count": 77,
   "metadata": {},
   "outputs": [
    {
     "name": "stderr",
     "output_type": "stream",
     "text": [
      "C:\\Users\\38095\\anaconda3\\envs\\labvika\\lib\\site-packages\\ipykernel_launcher.py:8: UserWarning: Update your `Dense` call to the Keras 2 API: `Dense(activation=\"tanh\", input_dim=4, units=4)`\n",
      "  \n"
     ]
    }
   ],
   "source": [
    "'''\n",
    "Побудуємо нейронну мережу з архітектурою 4-4-4-1\n",
    "'''\n",
    "# Initialising the ANN \n",
    "rnn2 = Sequential()\n",
    "\n",
    "# Adding the input layer and the first hidden layer\n",
    "rnn2.add(Dense(output_dim = 4, activation = 'tanh', input_dim = 4))\n",
    "\n",
    "# Adding the hidden layer\n",
    "rnn2.add(Dense(4, activation='tanh'))\n",
    "\n",
    "# Adding the output layer\n",
    "rnn2.add(Dense(1, activation='linear'))\n",
    "\n",
    "# Compiling the ANN\n",
    "rnn2.compile(optimizer='adam', loss='mean_squared_error', metrics = ['accuracy'])"
   ]
  },
  {
   "cell_type": "code",
   "execution_count": 78,
   "metadata": {},
   "outputs": [
    {
     "name": "stderr",
     "output_type": "stream",
     "text": [
      "C:\\Users\\38095\\anaconda3\\envs\\labvika\\lib\\site-packages\\ipykernel_launcher.py:2: UserWarning: The `nb_epoch` argument in `fit` has been renamed `epochs`.\n",
      "  \n"
     ]
    },
    {
     "name": "stdout",
     "output_type": "stream",
     "text": [
      "Epoch 1/100\n",
      "260/260 [==============================] - 0s 983us/step - loss: 0.9152 - accuracy: 0.0000e+00\n",
      "Epoch 2/100\n",
      "260/260 [==============================] - 0s 182us/step - loss: 0.8672 - accuracy: 0.0000e+00\n",
      "Epoch 3/100\n",
      "260/260 [==============================] - 0s 174us/step - loss: 0.8409 - accuracy: 0.0000e+00\n",
      "Epoch 4/100\n",
      "260/260 [==============================] - 0s 169us/step - loss: 0.8243 - accuracy: 0.0000e+00\n",
      "Epoch 5/100\n",
      "260/260 [==============================] - 0s 161us/step - loss: 0.8135 - accuracy: 0.0000e+00\n",
      "Epoch 6/100\n",
      "260/260 [==============================] - 0s 195us/step - loss: 0.8062 - accuracy: 0.0000e+00\n",
      "Epoch 7/100\n",
      "260/260 [==============================] - 0s 201us/step - loss: 0.8002 - accuracy: 0.0000e+00\n",
      "Epoch 8/100\n",
      "260/260 [==============================] - 0s 208us/step - loss: 0.7925 - accuracy: 0.0000e+00\n",
      "Epoch 9/100\n",
      "260/260 [==============================] - 0s 199us/step - loss: 0.7875 - accuracy: 0.0000e+00\n",
      "Epoch 10/100\n",
      "260/260 [==============================] - 0s 224us/step - loss: 0.7817 - accuracy: 0.0000e+00\n",
      "Epoch 11/100\n",
      "260/260 [==============================] - 0s 231us/step - loss: 0.7770 - accuracy: 0.0000e+00\n",
      "Epoch 12/100\n",
      "260/260 [==============================] - 0s 208us/step - loss: 0.7721 - accuracy: 0.0000e+00\n",
      "Epoch 13/100\n",
      "260/260 [==============================] - 0s 207us/step - loss: 0.7671 - accuracy: 0.0000e+00\n",
      "Epoch 14/100\n",
      "260/260 [==============================] - 0s 203us/step - loss: 0.7632 - accuracy: 0.0000e+00\n",
      "Epoch 15/100\n",
      "260/260 [==============================] - 0s 208us/step - loss: 0.7581 - accuracy: 0.0000e+00\n",
      "Epoch 16/100\n",
      "260/260 [==============================] - 0s 230us/step - loss: 0.7541 - accuracy: 0.0000e+00\n",
      "Epoch 17/100\n",
      "260/260 [==============================] - 0s 211us/step - loss: 0.7495 - accuracy: 0.0000e+00\n",
      "Epoch 18/100\n",
      "260/260 [==============================] - 0s 228us/step - loss: 0.7458 - accuracy: 0.0000e+000s - loss: 0.7460 - accuracy: 0.0000e+\n",
      "Epoch 19/100\n",
      "260/260 [==============================] - 0s 209us/step - loss: 0.7430 - accuracy: 0.0000e+00\n",
      "Epoch 20/100\n",
      "260/260 [==============================] - 0s 207us/step - loss: 0.7387 - accuracy: 0.0000e+00\n",
      "Epoch 21/100\n",
      "260/260 [==============================] - 0s 204us/step - loss: 0.7369 - accuracy: 0.0000e+00\n",
      "Epoch 22/100\n",
      "260/260 [==============================] - 0s 224us/step - loss: 0.7328 - accuracy: 0.0000e+00\n",
      "Epoch 23/100\n",
      "260/260 [==============================] - 0s 201us/step - loss: 0.7288 - accuracy: 0.0000e+00\n",
      "Epoch 24/100\n",
      "260/260 [==============================] - 0s 198us/step - loss: 0.7265 - accuracy: 0.0000e+00\n",
      "Epoch 25/100\n",
      "260/260 [==============================] - 0s 208us/step - loss: 0.7245 - accuracy: 0.0000e+00\n",
      "Epoch 26/100\n",
      "260/260 [==============================] - 0s 200us/step - loss: 0.7212 - accuracy: 0.0000e+00\n",
      "Epoch 27/100\n",
      "260/260 [==============================] - 0s 196us/step - loss: 0.7196 - accuracy: 0.0000e+00\n",
      "Epoch 28/100\n",
      "260/260 [==============================] - 0s 201us/step - loss: 0.7174 - accuracy: 0.0000e+00\n",
      "Epoch 29/100\n",
      "260/260 [==============================] - 0s 199us/step - loss: 0.7147 - accuracy: 0.0000e+00\n",
      "Epoch 30/100\n",
      "260/260 [==============================] - 0s 197us/step - loss: 0.7127 - accuracy: 0.0000e+00\n",
      "Epoch 31/100\n",
      "260/260 [==============================] - 0s 210us/step - loss: 0.7113 - accuracy: 0.0000e+00\n",
      "Epoch 32/100\n",
      "260/260 [==============================] - 0s 210us/step - loss: 0.7118 - accuracy: 0.0000e+00\n",
      "Epoch 33/100\n",
      "260/260 [==============================] - 0s 206us/step - loss: 0.7096 - accuracy: 0.0000e+00\n",
      "Epoch 34/100\n",
      "260/260 [==============================] - 0s 197us/step - loss: 0.7081 - accuracy: 0.0000e+00\n",
      "Epoch 35/100\n",
      "260/260 [==============================] - 0s 203us/step - loss: 0.7069 - accuracy: 0.0000e+00\n",
      "Epoch 36/100\n",
      "260/260 [==============================] - 0s 188us/step - loss: 0.7052 - accuracy: 0.0000e+00\n",
      "Epoch 37/100\n",
      "260/260 [==============================] - 0s 208us/step - loss: 0.7053 - accuracy: 0.0000e+00\n",
      "Epoch 38/100\n",
      "260/260 [==============================] - 0s 201us/step - loss: 0.7038 - accuracy: 0.0000e+00\n",
      "Epoch 39/100\n",
      "260/260 [==============================] - 0s 202us/step - loss: 0.7028 - accuracy: 0.0000e+00\n",
      "Epoch 40/100\n",
      "260/260 [==============================] - 0s 201us/step - loss: 0.7016 - accuracy: 0.0000e+00\n",
      "Epoch 41/100\n",
      "260/260 [==============================] - 0s 199us/step - loss: 0.7017 - accuracy: 0.0000e+00\n",
      "Epoch 42/100\n",
      "260/260 [==============================] - 0s 198us/step - loss: 0.7000 - accuracy: 0.0000e+00\n",
      "Epoch 43/100\n",
      "260/260 [==============================] - 0s 202us/step - loss: 0.6998 - accuracy: 0.0000e+00\n",
      "Epoch 44/100\n",
      "260/260 [==============================] - 0s 200us/step - loss: 0.7001 - accuracy: 0.0000e+00\n",
      "Epoch 45/100\n",
      "260/260 [==============================] - 0s 198us/step - loss: 0.6996 - accuracy: 0.0000e+00\n",
      "Epoch 46/100\n",
      "260/260 [==============================] - 0s 202us/step - loss: 0.6991 - accuracy: 0.0000e+00\n",
      "Epoch 47/100\n",
      "260/260 [==============================] - 0s 205us/step - loss: 0.6990 - accuracy: 0.0000e+00\n",
      "Epoch 48/100\n",
      "260/260 [==============================] - 0s 199us/step - loss: 0.6987 - accuracy: 0.0000e+00\n",
      "Epoch 49/100\n",
      "260/260 [==============================] - 0s 203us/step - loss: 0.7006 - accuracy: 0.0000e+00\n",
      "Epoch 50/100\n",
      "260/260 [==============================] - 0s 196us/step - loss: 0.6979 - accuracy: 0.0000e+00\n",
      "Epoch 51/100\n",
      "260/260 [==============================] - 0s 200us/step - loss: 0.6944 - accuracy: 0.0000e+00\n",
      "Epoch 52/100\n",
      "260/260 [==============================] - 0s 204us/step - loss: 0.6975 - accuracy: 0.0000e+00\n",
      "Epoch 53/100\n",
      "260/260 [==============================] - 0s 200us/step - loss: 0.6966 - accuracy: 0.0000e+00\n",
      "Epoch 54/100\n",
      "260/260 [==============================] - 0s 203us/step - loss: 0.6949 - accuracy: 0.0000e+00\n",
      "Epoch 55/100\n",
      "260/260 [==============================] - 0s 201us/step - loss: 0.6964 - accuracy: 0.0000e+00\n",
      "Epoch 56/100\n",
      "260/260 [==============================] - 0s 188us/step - loss: 0.6932 - accuracy: 0.0000e+00\n",
      "Epoch 57/100\n",
      "260/260 [==============================] - 0s 239us/step - loss: 0.6936 - accuracy: 0.0000e+00\n",
      "Epoch 58/100\n",
      "260/260 [==============================] - 0s 327us/step - loss: 0.6930 - accuracy: 0.0000e+00\n",
      "Epoch 59/100\n",
      "260/260 [==============================] - 0s 377us/step - loss: 0.6926 - accuracy: 0.0000e+00\n",
      "Epoch 60/100\n",
      "260/260 [==============================] - 0s 380us/step - loss: 0.6935 - accuracy: 0.0000e+00\n",
      "Epoch 61/100\n",
      "260/260 [==============================] - 0s 375us/step - loss: 0.6913 - accuracy: 0.0000e+00\n",
      "Epoch 62/100\n",
      "260/260 [==============================] - 0s 376us/step - loss: 0.6916 - accuracy: 0.0000e+00\n",
      "Epoch 63/100\n",
      "260/260 [==============================] - 0s 380us/step - loss: 0.6898 - accuracy: 0.0000e+00\n",
      "Epoch 64/100\n",
      "260/260 [==============================] - 0s 387us/step - loss: 0.6899 - accuracy: 0.0000e+00\n",
      "Epoch 65/100\n",
      "260/260 [==============================] - 0s 371us/step - loss: 0.6899 - accuracy: 0.0000e+00\n",
      "Epoch 66/100\n",
      "260/260 [==============================] - 0s 388us/step - loss: 0.6914 - accuracy: 0.0000e+00\n",
      "Epoch 67/100\n",
      "260/260 [==============================] - 0s 468us/step - loss: 0.6886 - accuracy: 0.0000e+00\n",
      "Epoch 68/100\n",
      "260/260 [==============================] - 0s 404us/step - loss: 0.6889 - accuracy: 0.0000e+00\n",
      "Epoch 69/100\n",
      "260/260 [==============================] - 0s 403us/step - loss: 0.6917 - accuracy: 0.0000e+00\n",
      "Epoch 70/100\n",
      "260/260 [==============================] - 0s 377us/step - loss: 0.6883 - accuracy: 0.0000e+00\n",
      "Epoch 71/100\n",
      "260/260 [==============================] - 0s 390us/step - loss: 0.6875 - accuracy: 0.0000e+00\n",
      "Epoch 72/100\n",
      "260/260 [==============================] - 0s 354us/step - loss: 0.6880 - accuracy: 0.0000e+00\n",
      "Epoch 73/100\n",
      "260/260 [==============================] - 0s 338us/step - loss: 0.6899 - accuracy: 0.0000e+00\n",
      "Epoch 74/100\n",
      "260/260 [==============================] - 0s 341us/step - loss: 0.6882 - accuracy: 0.0000e+00\n",
      "Epoch 75/100\n",
      "260/260 [==============================] - 0s 345us/step - loss: 0.6885 - accuracy: 0.0000e+00\n",
      "Epoch 76/100\n"
     ]
    },
    {
     "name": "stdout",
     "output_type": "stream",
     "text": [
      "260/260 [==============================] - 0s 342us/step - loss: 0.6854 - accuracy: 0.0000e+00\n",
      "Epoch 77/100\n",
      "260/260 [==============================] - 0s 348us/step - loss: 0.6857 - accuracy: 0.0000e+00\n",
      "Epoch 78/100\n",
      "260/260 [==============================] - 0s 313us/step - loss: 0.6874 - accuracy: 0.0000e+00\n",
      "Epoch 79/100\n",
      "260/260 [==============================] - 0s 331us/step - loss: 0.6843 - accuracy: 0.0000e+00\n",
      "Epoch 80/100\n",
      "260/260 [==============================] - 0s 319us/step - loss: 0.6848 - accuracy: 0.0000e+00\n",
      "Epoch 81/100\n",
      "260/260 [==============================] - 0s 382us/step - loss: 0.6836 - accuracy: 0.0000e+00\n",
      "Epoch 82/100\n",
      "260/260 [==============================] - 0s 388us/step - loss: 0.6849 - accuracy: 0.0000e+00\n",
      "Epoch 83/100\n",
      "260/260 [==============================] - 0s 403us/step - loss: 0.6837 - accuracy: 0.0000e+00\n",
      "Epoch 84/100\n",
      "260/260 [==============================] - 0s 369us/step - loss: 0.6851 - accuracy: 0.0000e+00\n",
      "Epoch 85/100\n",
      "260/260 [==============================] - 0s 392us/step - loss: 0.6825 - accuracy: 0.0000e+00\n",
      "Epoch 86/100\n",
      "260/260 [==============================] - 0s 412us/step - loss: 0.6840 - accuracy: 0.0000e+00\n",
      "Epoch 87/100\n",
      "260/260 [==============================] - 0s 388us/step - loss: 0.6829 - accuracy: 0.0000e+00\n",
      "Epoch 88/100\n",
      "260/260 [==============================] - 0s 392us/step - loss: 0.6822 - accuracy: 0.0000e+00\n",
      "Epoch 89/100\n",
      "260/260 [==============================] - 0s 424us/step - loss: 0.6819 - accuracy: 0.0000e+00\n",
      "Epoch 90/100\n",
      "260/260 [==============================] - 0s 368us/step - loss: 0.6815 - accuracy: 0.0000e+00\n",
      "Epoch 91/100\n",
      "260/260 [==============================] - 0s 397us/step - loss: 0.6812 - accuracy: 0.0000e+00\n",
      "Epoch 92/100\n",
      "260/260 [==============================] - 0s 391us/step - loss: 0.6808 - accuracy: 0.0000e+00\n",
      "Epoch 93/100\n",
      "260/260 [==============================] - 0s 393us/step - loss: 0.6804 - accuracy: 0.0000e+00\n",
      "Epoch 94/100\n",
      "260/260 [==============================] - 0s 391us/step - loss: 0.6799 - accuracy: 0.0000e+00\n",
      "Epoch 95/100\n",
      "260/260 [==============================] - 0s 395us/step - loss: 0.6797 - accuracy: 0.0000e+00\n",
      "Epoch 96/100\n",
      "260/260 [==============================] - 0s 398us/step - loss: 0.6788 - accuracy: 0.0000e+00\n",
      "Epoch 97/100\n",
      "260/260 [==============================] - 0s 377us/step - loss: 0.6814 - accuracy: 0.0000e+00\n",
      "Epoch 98/100\n",
      "260/260 [==============================] - 0s 344us/step - loss: 0.6784 - accuracy: 0.0000e+00\n",
      "Epoch 99/100\n",
      "260/260 [==============================] - 0s 385us/step - loss: 0.6795 - accuracy: 0.0000e+00\n",
      "Epoch 100/100\n",
      "260/260 [==============================] - 0s 381us/step - loss: 0.6807 - accuracy: 0.0000e+00\n"
     ]
    },
    {
     "data": {
      "text/plain": [
       "<keras.callbacks.callbacks.History at 0x29db6f8a1c8>"
      ]
     },
     "execution_count": 78,
     "metadata": {},
     "output_type": "execute_result"
    }
   ],
   "source": [
    "# Fitting the ANN to the Training set\n",
    "rnn2.fit(X_train2, y_train2, batch_size = 10, nb_epoch = 100)"
   ]
  },
  {
   "cell_type": "code",
   "execution_count": 79,
   "metadata": {},
   "outputs": [],
   "source": [
    "# Predict the Training set results\n",
    "y_modeled2=rnn2.predict(X_train2)\n",
    "# Predicting the Test set results\n",
    "y_pred2 = rnn2.predict(X_test2)"
   ]
  },
  {
   "cell_type": "code",
   "execution_count": 80,
   "metadata": {},
   "outputs": [
    {
     "name": "stderr",
     "output_type": "stream",
     "text": [
      "C:\\Users\\38095\\anaconda3\\envs\\labvika\\lib\\site-packages\\ipykernel_launcher.py:8: UserWarning: Update your `Dense` call to the Keras 2 API: `Dense(activation=\"tanh\", input_dim=4, units=6)`\n",
      "  \n"
     ]
    }
   ],
   "source": [
    "'''\n",
    "Побудуємо нейронну мережу з архітектурою 4-6-1\n",
    "'''\n",
    "# Initialising the ANN \n",
    "rnn3 = Sequential()\n",
    "\n",
    "# Adding the input layer and the first hidden layer\n",
    "rnn3.add(Dense(output_dim = 6, activation = 'tanh', input_dim = 4))\n",
    "\n",
    "# Adding the output layer\n",
    "rnn3.add(Dense(1, activation='linear'))\n",
    "\n",
    "# Compiling the ANN\n",
    "rnn3.compile(optimizer='adam', loss='mean_squared_error', metrics = ['accuracy'])"
   ]
  },
  {
   "cell_type": "code",
   "execution_count": 81,
   "metadata": {},
   "outputs": [
    {
     "name": "stderr",
     "output_type": "stream",
     "text": [
      "C:\\Users\\38095\\anaconda3\\envs\\labvika\\lib\\site-packages\\ipykernel_launcher.py:2: UserWarning: The `nb_epoch` argument in `fit` has been renamed `epochs`.\n",
      "  \n"
     ]
    },
    {
     "name": "stdout",
     "output_type": "stream",
     "text": [
      "Epoch 1/100\n",
      "260/260 [==============================] - 0s 682us/step - loss: 2.4938 - accuracy: 0.0000e+00\n",
      "Epoch 2/100\n",
      "260/260 [==============================] - 0s 167us/step - loss: 2.2241 - accuracy: 0.0000e+00\n",
      "Epoch 3/100\n",
      "260/260 [==============================] - 0s 153us/step - loss: 1.9657 - accuracy: 0.0000e+00\n",
      "Epoch 4/100\n",
      "260/260 [==============================] - 0s 161us/step - loss: 1.7258 - accuracy: 0.0000e+00\n",
      "Epoch 5/100\n",
      "260/260 [==============================] - 0s 154us/step - loss: 1.5066 - accuracy: 0.0000e+00\n",
      "Epoch 6/100\n",
      "260/260 [==============================] - 0s 164us/step - loss: 1.3151 - accuracy: 0.0000e+00\n",
      "Epoch 7/100\n",
      "260/260 [==============================] - 0s 179us/step - loss: 1.1550 - accuracy: 0.0000e+00\n",
      "Epoch 8/100\n",
      "260/260 [==============================] - 0s 198us/step - loss: 1.0327 - accuracy: 0.0000e+00\n",
      "Epoch 9/100\n",
      "260/260 [==============================] - 0s 192us/step - loss: 0.9337 - accuracy: 0.0000e+00\n",
      "Epoch 10/100\n",
      "260/260 [==============================] - 0s 195us/step - loss: 0.8664 - accuracy: 0.0000e+00\n",
      "Epoch 11/100\n",
      "260/260 [==============================] - 0s 198us/step - loss: 0.8142 - accuracy: 0.0000e+00\n",
      "Epoch 12/100\n",
      "260/260 [==============================] - 0s 194us/step - loss: 0.7798 - accuracy: 0.0000e+00\n",
      "Epoch 13/100\n",
      "260/260 [==============================] - 0s 193us/step - loss: 0.7605 - accuracy: 0.0000e+00\n",
      "Epoch 14/100\n",
      "260/260 [==============================] - 0s 184us/step - loss: 0.7410 - accuracy: 0.0000e+00\n",
      "Epoch 15/100\n",
      "260/260 [==============================] - 0s 195us/step - loss: 0.7309 - accuracy: 0.0000e+00\n",
      "Epoch 16/100\n",
      "260/260 [==============================] - 0s 197us/step - loss: 0.7245 - accuracy: 0.0000e+00\n",
      "Epoch 17/100\n",
      "260/260 [==============================] - 0s 197us/step - loss: 0.7194 - accuracy: 0.0000e+00\n",
      "Epoch 18/100\n",
      "260/260 [==============================] - 0s 200us/step - loss: 0.7156 - accuracy: 0.0000e+00\n",
      "Epoch 19/100\n",
      "260/260 [==============================] - 0s 184us/step - loss: 0.7130 - accuracy: 0.0000e+00\n",
      "Epoch 20/100\n",
      "260/260 [==============================] - 0s 205us/step - loss: 0.7111 - accuracy: 0.0000e+00\n",
      "Epoch 21/100\n",
      "260/260 [==============================] - 0s 191us/step - loss: 0.7088 - accuracy: 0.0000e+00\n",
      "Epoch 22/100\n",
      "260/260 [==============================] - 0s 196us/step - loss: 0.7075 - accuracy: 0.0000e+00\n",
      "Epoch 23/100\n",
      "260/260 [==============================] - 0s 200us/step - loss: 0.7059 - accuracy: 0.0000e+00\n",
      "Epoch 24/100\n",
      "260/260 [==============================] - 0s 197us/step - loss: 0.7044 - accuracy: 0.0000e+00\n",
      "Epoch 25/100\n",
      "260/260 [==============================] - 0s 191us/step - loss: 0.7028 - accuracy: 0.0000e+00\n",
      "Epoch 26/100\n",
      "260/260 [==============================] - 0s 192us/step - loss: 0.7010 - accuracy: 0.0000e+00\n",
      "Epoch 27/100\n",
      "260/260 [==============================] - 0s 192us/step - loss: 0.6997 - accuracy: 0.0000e+00\n",
      "Epoch 28/100\n",
      "260/260 [==============================] - 0s 321us/step - loss: 0.6989 - accuracy: 0.0000e+00\n",
      "Epoch 29/100\n",
      "260/260 [==============================] - 0s 379us/step - loss: 0.6974 - accuracy: 0.0000e+00\n",
      "Epoch 30/100\n",
      "260/260 [==============================] - 0s 380us/step - loss: 0.6962 - accuracy: 0.0000e+00\n",
      "Epoch 31/100\n",
      "260/260 [==============================] - 0s 379us/step - loss: 0.6950 - accuracy: 0.0000e+00\n",
      "Epoch 32/100\n",
      "260/260 [==============================] - 0s 361us/step - loss: 0.6942 - accuracy: 0.0000e+00\n",
      "Epoch 33/100\n",
      "260/260 [==============================] - 0s 368us/step - loss: 0.6931 - accuracy: 0.0000e+00\n",
      "Epoch 34/100\n",
      "260/260 [==============================] - 0s 387us/step - loss: 0.6924 - accuracy: 0.0000e+00\n",
      "Epoch 35/100\n",
      "260/260 [==============================] - 0s 386us/step - loss: 0.6908 - accuracy: 0.0000e+00\n",
      "Epoch 36/100\n",
      "260/260 [==============================] - 0s 373us/step - loss: 0.6895 - accuracy: 0.0000e+00\n",
      "Epoch 37/100\n",
      "260/260 [==============================] - 0s 368us/step - loss: 0.6895 - accuracy: 0.0000e+00\n",
      "Epoch 38/100\n",
      "260/260 [==============================] - 0s 366us/step - loss: 0.6880 - accuracy: 0.0000e+00\n",
      "Epoch 39/100\n",
      "260/260 [==============================] - 0s 376us/step - loss: 0.6879 - accuracy: 0.0000e+00\n",
      "Epoch 40/100\n",
      "260/260 [==============================] - 0s 374us/step - loss: 0.6858 - accuracy: 0.0000e+00\n",
      "Epoch 41/100\n",
      "260/260 [==============================] - 0s 373us/step - loss: 0.6856 - accuracy: 0.0000e+00\n",
      "Epoch 42/100\n",
      "260/260 [==============================] - 0s 366us/step - loss: 0.6841 - accuracy: 0.0000e+00\n",
      "Epoch 43/100\n",
      "260/260 [==============================] - 0s 393us/step - loss: 0.6849 - accuracy: 0.0000e+00\n",
      "Epoch 44/100\n",
      "260/260 [==============================] - 0s 381us/step - loss: 0.6822 - accuracy: 0.0000e+00\n",
      "Epoch 45/100\n",
      "260/260 [==============================] - 0s 370us/step - loss: 0.6822 - accuracy: 0.0000e+00\n",
      "Epoch 46/100\n",
      "260/260 [==============================] - 0s 377us/step - loss: 0.6802 - accuracy: 0.0000e+00\n",
      "Epoch 47/100\n",
      "260/260 [==============================] - 0s 382us/step - loss: 0.6800 - accuracy: 0.0000e+00\n",
      "Epoch 48/100\n",
      "260/260 [==============================] - 0s 377us/step - loss: 0.6793 - accuracy: 0.0000e+00\n",
      "Epoch 49/100\n",
      "260/260 [==============================] - 0s 361us/step - loss: 0.6781 - accuracy: 0.0000e+00\n",
      "Epoch 50/100\n",
      "260/260 [==============================] - 0s 366us/step - loss: 0.6775 - accuracy: 0.0000e+00\n",
      "Epoch 51/100\n",
      "260/260 [==============================] - 0s 363us/step - loss: 0.6769 - accuracy: 0.0000e+00\n",
      "Epoch 52/100\n",
      "260/260 [==============================] - 0s 379us/step - loss: 0.6763 - accuracy: 0.0000e+00\n",
      "Epoch 53/100\n",
      "260/260 [==============================] - 0s 369us/step - loss: 0.6760 - accuracy: 0.0000e+00\n",
      "Epoch 54/100\n",
      "260/260 [==============================] - 0s 386us/step - loss: 0.6743 - accuracy: 0.0000e+00\n",
      "Epoch 55/100\n",
      "260/260 [==============================] - 0s 392us/step - loss: 0.6739 - accuracy: 0.0000e+00\n",
      "Epoch 56/100\n",
      "260/260 [==============================] - 0s 366us/step - loss: 0.6733 - accuracy: 0.0000e+00\n",
      "Epoch 57/100\n",
      "260/260 [==============================] - 0s 373us/step - loss: 0.6731 - accuracy: 0.0000e+00\n",
      "Epoch 58/100\n",
      "260/260 [==============================] - 0s 362us/step - loss: 0.6733 - accuracy: 0.0000e+00\n",
      "Epoch 59/100\n",
      "260/260 [==============================] - 0s 375us/step - loss: 0.6711 - accuracy: 0.0000e+00\n",
      "Epoch 60/100\n",
      "260/260 [==============================] - 0s 377us/step - loss: 0.6701 - accuracy: 0.0000e+00\n",
      "Epoch 61/100\n",
      "260/260 [==============================] - 0s 362us/step - loss: 0.6694 - accuracy: 0.0000e+00\n",
      "Epoch 62/100\n",
      "260/260 [==============================] - 0s 368us/step - loss: 0.6696 - accuracy: 0.0000e+00\n",
      "Epoch 63/100\n",
      "260/260 [==============================] - 0s 371us/step - loss: 0.6700 - accuracy: 0.0000e+00\n",
      "Epoch 64/100\n",
      "260/260 [==============================] - 0s 390us/step - loss: 0.6681 - accuracy: 0.0000e+00\n",
      "Epoch 65/100\n",
      "260/260 [==============================] - 0s 360us/step - loss: 0.6678 - accuracy: 0.0000e+00\n",
      "Epoch 66/100\n",
      "260/260 [==============================] - 0s 369us/step - loss: 0.6664 - accuracy: 0.0000e+00\n",
      "Epoch 67/100\n",
      "260/260 [==============================] - 0s 364us/step - loss: 0.6668 - accuracy: 0.0000e+00\n",
      "Epoch 68/100\n",
      "260/260 [==============================] - 0s 364us/step - loss: 0.6653 - accuracy: 0.0000e+00\n",
      "Epoch 69/100\n",
      "260/260 [==============================] - 0s 364us/step - loss: 0.6655 - accuracy: 0.0000e+00\n",
      "Epoch 70/100\n",
      "260/260 [==============================] - 0s 361us/step - loss: 0.6647 - accuracy: 0.0000e+00\n",
      "Epoch 71/100\n",
      "260/260 [==============================] - 0s 353us/step - loss: 0.6638 - accuracy: 0.0000e+00\n",
      "Epoch 72/100\n",
      "260/260 [==============================] - 0s 361us/step - loss: 0.6629 - accuracy: 0.0000e+00\n",
      "Epoch 73/100\n",
      "260/260 [==============================] - 0s 371us/step - loss: 0.6628 - accuracy: 0.0000e+00\n",
      "Epoch 74/100\n",
      "260/260 [==============================] - 0s 377us/step - loss: 0.6626 - accuracy: 0.0000e+00\n",
      "Epoch 75/100\n",
      "260/260 [==============================] - ETA: 0s - loss: 0.7182 - accuracy: 0.0000e+ - 0s 366us/step - loss: 0.6617 - accuracy: 0.0000e+00\n",
      "Epoch 76/100\n"
     ]
    },
    {
     "name": "stdout",
     "output_type": "stream",
     "text": [
      "260/260 [==============================] - 0s 354us/step - loss: 0.6616 - accuracy: 0.0000e+00\n",
      "Epoch 77/100\n",
      "260/260 [==============================] - 0s 364us/step - loss: 0.6625 - accuracy: 0.0000e+00\n",
      "Epoch 78/100\n",
      "260/260 [==============================] - 0s 371us/step - loss: 0.6596 - accuracy: 0.0000e+00\n",
      "Epoch 79/100\n",
      "260/260 [==============================] - 0s 373us/step - loss: 0.6605 - accuracy: 0.0000e+00\n",
      "Epoch 80/100\n",
      "260/260 [==============================] - 0s 377us/step - loss: 0.6594 - accuracy: 0.0000e+00\n",
      "Epoch 81/100\n",
      "260/260 [==============================] - 0s 374us/step - loss: 0.6592 - accuracy: 0.0000e+00\n",
      "Epoch 82/100\n",
      "260/260 [==============================] - 0s 377us/step - loss: 0.6611 - accuracy: 0.0000e+00\n",
      "Epoch 83/100\n",
      "260/260 [==============================] - 0s 374us/step - loss: 0.6586 - accuracy: 0.0000e+00\n",
      "Epoch 84/100\n",
      "260/260 [==============================] - 0s 369us/step - loss: 0.6573 - accuracy: 0.0000e+00\n",
      "Epoch 85/100\n",
      "260/260 [==============================] - 0s 369us/step - loss: 0.6574 - accuracy: 0.0000e+00\n",
      "Epoch 86/100\n",
      "260/260 [==============================] - 0s 377us/step - loss: 0.6565 - accuracy: 0.0000e+00\n",
      "Epoch 87/100\n",
      "260/260 [==============================] - 0s 358us/step - loss: 0.6569 - accuracy: 0.0000e+00\n",
      "Epoch 88/100\n",
      "260/260 [==============================] - 0s 375us/step - loss: 0.6575 - accuracy: 0.0000e+00\n",
      "Epoch 89/100\n",
      "260/260 [==============================] - 0s 374us/step - loss: 0.6549 - accuracy: 0.0000e+00\n",
      "Epoch 90/100\n",
      "260/260 [==============================] - 0s 363us/step - loss: 0.6556 - accuracy: 0.0000e+00\n",
      "Epoch 91/100\n",
      "260/260 [==============================] - 0s 368us/step - loss: 0.6542 - accuracy: 0.0000e+00\n",
      "Epoch 92/100\n",
      "260/260 [==============================] - 0s 380us/step - loss: 0.6538 - accuracy: 0.0000e+00\n",
      "Epoch 93/100\n",
      "260/260 [==============================] - 0s 362us/step - loss: 0.6543 - accuracy: 0.0000e+00\n",
      "Epoch 94/100\n",
      "260/260 [==============================] - 0s 384us/step - loss: 0.6531 - accuracy: 0.0000e+00\n",
      "Epoch 95/100\n",
      "260/260 [==============================] - 0s 379us/step - loss: 0.6536 - accuracy: 0.0000e+00\n",
      "Epoch 96/100\n",
      "260/260 [==============================] - 0s 372us/step - loss: 0.6539 - accuracy: 0.0000e+00\n",
      "Epoch 97/100\n",
      "260/260 [==============================] - 0s 365us/step - loss: 0.6522 - accuracy: 0.0000e+00\n",
      "Epoch 98/100\n",
      "260/260 [==============================] - 0s 364us/step - loss: 0.6518 - accuracy: 0.0000e+00\n",
      "Epoch 99/100\n",
      "260/260 [==============================] - 0s 379us/step - loss: 0.6516 - accuracy: 0.0000e+00\n",
      "Epoch 100/100\n",
      "260/260 [==============================] - 0s 366us/step - loss: 0.6514 - accuracy: 0.0000e+00\n"
     ]
    },
    {
     "data": {
      "text/plain": [
       "<keras.callbacks.callbacks.History at 0x29db733d288>"
      ]
     },
     "execution_count": 81,
     "metadata": {},
     "output_type": "execute_result"
    }
   ],
   "source": [
    "# Fitting the ANN to the Training set\n",
    "rnn3.fit(X_train2, y_train2, batch_size = 10, nb_epoch = 100)"
   ]
  },
  {
   "cell_type": "code",
   "execution_count": 82,
   "metadata": {},
   "outputs": [],
   "source": [
    "# Predict the Training set results\n",
    "y_modeled3=rnn3.predict(X_train2)\n",
    "# Predicting the Test set results\n",
    "y_pred3 = rnn3.predict(X_test2)"
   ]
  },
  {
   "cell_type": "code",
   "execution_count": 83,
   "metadata": {},
   "outputs": [],
   "source": [
    "# Inversing scaling\n",
    "from sklearn.preprocessing import StandardScaler\n",
    "y_modeled1 = scalerY.inverse_transform(y_modeled1)\n",
    "y_modeled2 = scalerY.inverse_transform(y_modeled2)\n",
    "y_modeled3 = scalerY.inverse_transform(y_modeled3)\n",
    "\n",
    "y_pred1 = scalerY.inverse_transform(y_pred1)\n",
    "y_pred2 = scalerY.inverse_transform(y_pred2)\n",
    "y_pred3 = scalerY.inverse_transform(y_pred3)\n",
    "\n",
    "y_train = scalerY.inverse_transform(y_train2)\n",
    "X_train = scalerX.inverse_transform(X_train2)\n",
    "y_test = scalerY.inverse_transform(y_test2)\n",
    "X_test = scalerX.inverse_transform(X_test2)"
   ]
  },
  {
   "cell_type": "markdown",
   "metadata": {},
   "source": [
    "Тепер обчислимо mse для моделей нейронної мережі та виведемо їх, та помилки для всіх попередніх моделей для порівняння"
   ]
  },
  {
   "cell_type": "code",
   "execution_count": 84,
   "metadata": {},
   "outputs": [
    {
     "name": "stdout",
     "output_type": "stream",
     "text": [
      "Mean Squared Error:\n",
      "sr\n",
      "1.245597043089382 1.6586890832703327\n",
      "mr\n",
      "1.1359615001115466 1.5416076790691486\n",
      "pr\n",
      "1.2414081221860618 1.652297660148221\n",
      "omr\n",
      "1.1359686965981977 1.5355082562975373\n",
      "sdt\n",
      "0.8945487752295563 1.3655212455156749\n",
      "dt\n",
      "0.9888923998813729 1.4123412033039802\n",
      "rf\n",
      "1.245597043089382 1.6586890832703327\n",
      "4-4-1 RNN\n",
      "1.102274342304446 1.448683108205696\n",
      "4-4-4-1 RNN\n",
      "1.0902464288579141 1.4429483309716367\n",
      "4-6-1 RNN\n",
      "1.0466259067258323 1.4909398564390777\n"
     ]
    }
   ],
   "source": [
    "from sklearn.metrics import mean_squared_error\n",
    "print(\"Mean Squared Error:\")\n",
    "\n",
    "print(\"sr\")\n",
    "print(mse_sr_train, mse_sr_test)\n",
    "\n",
    "print(\"mr\")\n",
    "print(mse_mr_train, mse_mr_test)\n",
    "\n",
    "print(\"pr\")\n",
    "print(mse_pr_train, mse_pr_test)\n",
    "\n",
    "print(\"omr\")\n",
    "print(mse_omr_train, mse_omr_test)\n",
    "\n",
    "print(\"sdt\")\n",
    "print(mse_sdt_train, mse_sdt_test)\n",
    "\n",
    "print(\"dt\")\n",
    "print(mse_dt_train, mse_dt_test)\n",
    "\n",
    "print(\"rf\")\n",
    "print(mse_sr_train, mse_sr_test)\n",
    "\n",
    "print(\"4-4-1 RNN\")\n",
    "print(mean_squared_error(y_modeled1, y_train), mean_squared_error(y_pred1, y_test))\n",
    "\n",
    "print(\"4-4-4-1 RNN\")\n",
    "print(mean_squared_error(y_modeled2, y_train), mean_squared_error(y_pred2, y_test))\n",
    "\n",
    "print(\"4-6-1 RNN\")\n",
    "print(mean_squared_error(y_modeled3, y_train), mean_squared_error(y_pred3, y_test))"
   ]
  },
  {
   "cell_type": "markdown",
   "metadata": {},
   "source": [
    "За середньо квадратичною помилкою найкращою виявилась проста модель дерева рішень. Саме в неї найнижчі значення помилок як в тестовій, так і в тренувальній вибірках. Але, враховуючи значення коефіцієнтів детермінації, жодна з цих моделей не може бути застосована на практиці."
   ]
  }
 ],
 "metadata": {
  "kernelspec": {
   "display_name": "Python 3",
   "language": "python",
   "name": "python3"
  },
  "language_info": {
   "codemirror_mode": {
    "name": "ipython",
    "version": 3
   },
   "file_extension": ".py",
   "mimetype": "text/x-python",
   "name": "python",
   "nbconvert_exporter": "python",
   "pygments_lexer": "ipython3",
   "version": "3.7.9"
  }
 },
 "nbformat": 4,
 "nbformat_minor": 4
}
